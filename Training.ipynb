{
 "cells": [
  {
   "cell_type": "markdown",
   "id": "650366d9",
   "metadata": {},
   "source": [
    "# Creating a model and training it for generating and clustering music"
   ]
  },
  {
   "cell_type": "code",
   "execution_count": 1,
   "id": "7df2bd09",
   "metadata": {},
   "outputs": [],
   "source": [
    "#TODO: Create models: VAE, WAE, U-NET\n",
    "#Save model weights\n",
    "#Evaluate in this file?"
   ]
  },
  {
   "cell_type": "code",
   "execution_count": 2,
   "id": "760ad3c8",
   "metadata": {},
   "outputs": [
    {
     "name": "stderr",
     "output_type": "stream",
     "text": [
      "WARNING:pint.util:Redefining '[magnetic_flux]' (<class 'pint.delegates.txt_defparser.plain.DerivedDimensionDefinition'>)\n"
     ]
    }
   ],
   "source": [
    "#libraries\n",
    "import deeplay as dl\n",
    "import deeptrack as dt\n",
    "import torch\n",
    "import os\n",
    "from PIL import Image, ImageOps\n",
    "import torchvision.transforms as T\n",
    "import matplotlib.pyplot as plt\n",
    "import numpy as np"
   ]
  },
  {
   "cell_type": "code",
   "execution_count": 3,
   "id": "fce431f2",
   "metadata": {},
   "outputs": [
    {
     "name": "stdout",
     "output_type": "stream",
     "text": [
      "Number of train images: 10000\n"
     ]
    }
   ],
   "source": [
    "#Preprocess data\n",
    "data_dir = os.path.expanduser(\"./trainImagesSmall\")\n",
    "\n",
    "#Load image files using ImageFolder\n",
    "#trainFiles = dt.sources.ImageFolder(root=data_dir)\n",
    "trainFilesSmall = dt.sources.ImageFolder(root=data_dir)\n",
    "\n",
    "print(f\"Number of train images: {len(trainFilesSmall)}\")"
   ]
  },
  {
   "cell_type": "code",
   "execution_count": 4,
   "id": "55800ab0",
   "metadata": {},
   "outputs": [],
   "source": [
    "#Create image pipeline\n",
    "class CropWidth:\n",
    "    def __init__(self, target_width):\n",
    "        self.target_width = target_width\n",
    "\n",
    "    def __call__(self, x: torch.Tensor):\n",
    "        return x[..., :self.target_width]\n",
    "    \n",
    "image_pip = (dt.LoadImage(trainFilesSmall.path) >> dt.NormalizeMinMax()\n",
    "             >> dt.MoveAxis(2, 0) >> dt.pytorch.ToTensor(dtype=torch.float) >> CropWidth(512\n",
    "             ))"
   ]
  },
  {
   "cell_type": "code",
   "execution_count": 5,
   "id": "20345905",
   "metadata": {},
   "outputs": [
    {
     "name": "stdout",
     "output_type": "stream",
     "text": [
      "The size of each image is: torch.Size([1, 512, 512])\n"
     ]
    }
   ],
   "source": [
    "img_tensor = image_pip(trainFilesSmall.path[0])\n",
    "print(f\"The size of each image is: {img_tensor.shape}\")"
   ]
  },
  {
   "cell_type": "code",
   "execution_count": null,
   "id": "30890ee3",
   "metadata": {},
   "outputs": [],
   "source": [
    "#VAE\n",
    "from deeplay import AdamW #Specifically importing AdamW so we can easily change it to something else like SGDM //BD\n",
    "import torch\n",
    "\n",
    "#Even with very small beta the KL loss seems to decrease while the rec loss stays steady, suggesting the network is not able to learn the latent space //BD\n",
    "\n",
    "from variationalAutoEncoder import VariationalAutoEncoder\n",
    "\n",
    "vae = VariationalAutoEncoder(input_size=(512,512),\n",
    "    latent_dim=150, channels=[32, 64, 128, 256],\n",
    "    reconstruction_loss=torch.nn.MSELoss(reduction=\"mean\"), beta=1, optimizer=AdamW(lr=1e-4)\n",
    ").create()\n",
    "\n",
    "\n",
    "vae.encoder.blocks[0].layer.kernel_size = (5,5)\n",
    "vae.encoder.blocks[1].layer.kernel_size = (5,5)\n",
    "vae.encoder.blocks[2].layer.kernel_size = (5,5)\n",
    "vae.encoder.blocks[3].layer.kernel_size = (5,5)\n",
    "vae.decoder.blocks[0].layer.kernel_size = (5,5)\n",
    "vae.decoder.blocks[1].layer.kernel_size = (5,5)\n",
    "vae.decoder.blocks[2].layer.kernel_size = (5,5)\n",
    "vae.decoder.blocks[3].layer.kernel_size = (5,5)\n",
    "#vae.decoder.add_module(\"Dropout\",torch.nn.Dropout(0.2))\n",
    "\n",
    "\n",
    "print(vae)\n"
   ]
  },
  {
   "cell_type": "code",
   "execution_count": 6,
   "id": "6d04c6b1",
   "metadata": {},
   "outputs": [],
   "source": [
    "import dataset #Imported modified dataset code\n",
    "#train_dataset = dataset.Dataset(image_pip & image_pip, inputs=trainFiles)\n",
    "batch_size = 1\n",
    "train_dataset = dt.pytorch.Dataset(image_pip & image_pip, inputs = \"oneSong\")\n",
    "train_loader = dl.DataLoader(train_dataset, batch_size=batch_size, shuffle=True, num_workers=15)"
   ]
  },
  {
   "cell_type": "code",
   "execution_count": null,
   "id": "955df7c9",
   "metadata": {},
   "outputs": [],
   "source": [
    "effective_batch_size = 256\n",
    "grad_batches = int(effective_batch_size/batch_size)"
   ]
  },
  {
   "cell_type": "code",
   "execution_count": null,
   "id": "f884bfd6",
   "metadata": {},
   "outputs": [],
   "source": [
    "\n",
    "vae_trainer = dl.Trainer(max_epochs=20, accelerator=\"auto\")\n",
    "vae_trainer.fit(vae, train_loader)"
   ]
  },
  {
   "cell_type": "markdown",
   "id": "a8f31c89",
   "metadata": {},
   "source": [
    "### Plotting the training progress and saving the model"
   ]
  },
  {
   "cell_type": "code",
   "execution_count": null,
   "id": "2e7aca9a",
   "metadata": {},
   "outputs": [],
   "source": [
    "import torch\n",
    "vae_trainer.history.plot()\n",
    "torch.save(vae.state_dict(), \"vae.pth\")  #Saving the model.\n",
    "#vae.load_state_dict(torch.load(\"vae.pth\"))  // Use this to load the weights into a new model //BD"
   ]
  },
  {
   "cell_type": "code",
   "execution_count": 7,
   "id": "9c879635",
   "metadata": {},
   "outputs": [
    {
     "name": "stdout",
     "output_type": "stream",
     "text": [
      "WassersteinAutoEncoder(\n",
      "  (encoder): ConvolutionalEncoder2d(\n",
      "    (blocks): LayerList(\n",
      "      (0): Conv2dBlock(\n",
      "        (layer): Conv2d(1, 16, kernel_size=(3, 3), stride=(1, 1), padding=(1, 1))\n",
      "        (activation): ReLU()\n",
      "        (normalization): BatchNorm2d(16, eps=1e-05, momentum=0.1, affine=True, track_running_stats=True)\n",
      "      )\n",
      "      (1): Conv2dBlock(\n",
      "        (layer): Conv2d(16, 32, kernel_size=(3, 3), stride=(2, 2), padding=(1, 1))\n",
      "        (activation): ReLU()\n",
      "        (normalization): BatchNorm2d(32, eps=1e-05, momentum=0.1, affine=True, track_running_stats=True)\n",
      "      )\n",
      "      (2): Conv2dBlock(\n",
      "        (layer): Conv2d(32, 64, kernel_size=(3, 3), stride=(2, 2), padding=(1, 1))\n",
      "        (activation): ReLU()\n",
      "        (normalization): BatchNorm2d(64, eps=1e-05, momentum=0.1, affine=True, track_running_stats=True)\n",
      "      )\n",
      "      (3): Conv2dBlock(\n",
      "        (layer): Conv2d(64, 128, kernel_size=(3, 3), stride=(2, 2), padding=(1, 1))\n",
      "        (activation): ReLU()\n",
      "        (normalization): BatchNorm2d(128, eps=1e-05, momentum=0.1, affine=True, track_running_stats=True)\n",
      "      )\n",
      "      (4): Conv2dBlock(\n",
      "        (layer): Conv2d(128, 256, kernel_size=(3, 3), stride=(2, 2), padding=(1, 1))\n",
      "        (activation): Identity()\n",
      "        (normalization): BatchNorm2d(256, eps=1e-05, momentum=0.1, affine=True, track_running_stats=True)\n",
      "      )\n",
      "    )\n",
      "    (postprocess): Flatten(start_dim=1, end_dim=-1)\n",
      "  )\n",
      "  (fc_enc): Linear(in_features=262144, out_features=128, bias=True)\n",
      "  (fc_dec): Linear(in_features=128, out_features=262144, bias=True)\n",
      "  (decoder): ConvolutionalDecoder2d(\n",
      "    (blocks): LayerList(\n",
      "      (0): Conv2dBlock(\n",
      "        (layer): ConvTranspose2d(256, 128, kernel_size=(3, 3), stride=(2, 2), padding=(1, 1), output_padding=(1, 1))\n",
      "        (activation): ReLU()\n",
      "        (normalization): BatchNorm2d(128, eps=1e-05, momentum=0.1, affine=True, track_running_stats=True)\n",
      "      )\n",
      "      (1): Conv2dBlock(\n",
      "        (layer): ConvTranspose2d(128, 64, kernel_size=(3, 3), stride=(2, 2), padding=(1, 1), output_padding=(1, 1))\n",
      "        (activation): ReLU()\n",
      "        (normalization): BatchNorm2d(64, eps=1e-05, momentum=0.1, affine=True, track_running_stats=True)\n",
      "      )\n",
      "      (2): Conv2dBlock(\n",
      "        (layer): ConvTranspose2d(64, 32, kernel_size=(3, 3), stride=(2, 2), padding=(1, 1), output_padding=(1, 1))\n",
      "        (activation): ReLU()\n",
      "        (normalization): BatchNorm2d(32, eps=1e-05, momentum=0.1, affine=True, track_running_stats=True)\n",
      "      )\n",
      "      (3): Conv2dBlock(\n",
      "        (layer): ConvTranspose2d(32, 16, kernel_size=(3, 3), stride=(2, 2), padding=(1, 1), output_padding=(1, 1))\n",
      "        (activation): ReLU()\n",
      "        (normalization): BatchNorm2d(16, eps=1e-05, momentum=0.1, affine=True, track_running_stats=True)\n",
      "      )\n",
      "      (4): Conv2dBlock(\n",
      "        (layer): Conv2d(16, 1, kernel_size=(3, 3), stride=(1, 1), padding=(1, 1))\n",
      "        (activation): Identity()\n",
      "      )\n",
      "    )\n",
      "    (preprocess): Unflatten(dim=1, unflattened_size=(256, 32, 32))\n",
      "  )\n",
      "  (reconstruction_loss): MSELoss()\n",
      "  (train_metrics): MetricCollection,\n",
      "    prefix=train\n",
      "  )\n",
      "  (val_metrics): MetricCollection,\n",
      "    prefix=val\n",
      "  )\n",
      "  (test_metrics): MetricCollection,\n",
      "    prefix=test\n",
      "  )\n",
      "  (optimizer): AdamW[AdamW](lr=0.0001)\n",
      ")\n"
     ]
    }
   ],
   "source": [
    "#WAE, let us just focus on the VAE for now, later we can use this code\n",
    "wae = dl.WassersteinAutoEncoder(input_size=[512,512],\n",
    "    channels=[16, 32, 64, 128, 256], latent_dim=128,\n",
    "    reconstruction_loss=torch.nn.MSELoss(reduction=\"mean\"), optimizer=dl.AdamW(lr=1e-4)\n",
    ").create()\n",
    "\n",
    "wae.decoder.blocks[4].activation = torch.nn.Identity()\n",
    "\n",
    "print(wae)"
   ]
  },
  {
   "cell_type": "code",
   "execution_count": 8,
   "id": "ba319043",
   "metadata": {},
   "outputs": [
    {
     "name": "stderr",
     "output_type": "stream",
     "text": [
      "/home/rasmus/.local/lib/python3.10/site-packages/lightning/pytorch/trainer/configuration_validator.py:70: You defined a `validation_step` but have no `val_dataloader`. Skipping val loop.\n",
      "\n",
      "  | Name                | Type                   | Params | Mode \n",
      "-----------------------------------------------------------------------\n",
      "0 | encoder             | ConvolutionalEncoder2d | 393 K  | train\n",
      "1 | fc_enc              | Linear                 | 33.6 M | train\n",
      "2 | fc_dec              | Linear                 | 33.8 M | train\n",
      "3 | decoder             | ConvolutionalDecoder2d | 392 K  | train\n",
      "4 | reconstruction_loss | MSELoss                | 0      | train\n",
      "5 | train_metrics       | MetricCollection       | 0      | train\n",
      "6 | val_metrics         | MetricCollection       | 0      | train\n",
      "7 | test_metrics        | MetricCollection       | 0      | train\n",
      "8 | optimizer           | AdamW                  | 0      | train\n",
      "-----------------------------------------------------------------------\n",
      "68.2 M    Trainable params\n",
      "0         Non-trainable params\n",
      "68.2 M    Total params\n",
      "272.628   Total estimated model params size (MB)\n",
      "52        Modules in train mode\n",
      "0         Modules in eval mode\n",
      "/home/rasmus/.local/lib/python3.10/site-packages/lightning/pytorch/loops/fit_loop.py:310: The number of training batches (7) is smaller than the logging interval Trainer(log_every_n_steps=50). Set a lower value for log_every_n_steps if you want to see logs for the training epoch.\n"
     ]
    },
    {
     "name": "stdout",
     "output_type": "stream",
     "text": [
      "Epoch 99: 100%|██████████| 7/7 [00:05<00:00,  1.39it/s, v_num=493, train_rec_loss_step=nan.0, train_mmd_loss_step=nan.0, train_rec_loss_epoch=nan.0, train_mmd_loss_epoch=nan.0]\n"
     ]
    },
    {
     "data": {
      "image/png": "[encoded data removed]",
      "text/plain": [
       "<Figure size 1500x500 with 2 Axes>"
      ]
     },
     "metadata": {},
     "output_type": "display_data"
    }
   ],
   "source": [
    "#effective_batch_size = 256\n",
    "#grad_batches = int(effective_batch_size/batch_size)\n",
    "\n",
    "wae_trainer = dl.Trainer(max_epochs=100, accelerator=\"auto\")\n",
    "wae_trainer.fit(wae, train_loader)\n",
    "import torch\n",
    "wae_trainer.history.plot()\n",
    "torch.save(wae.state_dict(), \"wae.pth\")"
   ]
  },
  {
   "cell_type": "code",
   "execution_count": null,
   "id": "3c75bbb7",
   "metadata": {},
   "outputs": [],
   "source": [
    "#Example on how to generate music, just random noise now but with proper training and clustering we could try to sample things adjacent to a genre //BD\n",
    "\"\"\"\n",
    "--------------------------\n",
    "THIS IS OUTDATED DON'T USE\n",
    "--------------------------\n",
    "\"\"\"\n",
    "import torch\n",
    "from Image2Sound import Image2Sound, SaveAudio\n",
    "from torchvision.utils import save_image\n",
    "\n",
    "vae.eval()  \n",
    "n_samples = 1 \n",
    "latent_dim = 20  \n",
    "#Had to add a scalar to make the volume higher, think because of the normalization in the pipeline //BD\n",
    "z = 255*torch.randn(n_samples, latent_dim).to(next(vae.parameters()).device)\n",
    "print(z.shape)\n",
    "\n",
    "with torch.no_grad():\n",
    "    generated_image = vae.decode(z)\n",
    "    #TODO: Change the Image2Sound so we don't have to define conf again here when generating, should be a simple enough fix. Alternatively just make a file holding the class\n",
    "    #with a proper init //BD\n",
    "    class conf:\n",
    "        sampling_rate = 44100\n",
    "        duration = 30\n",
    "        hop_length = 694\n",
    "        fmin = 20\n",
    "        fmax = sampling_rate // 2\n",
    "        n_mels = 128\n",
    "        n_fft = n_mels * 20\n",
    "        samples = sampling_rate * duration\n",
    "    save_image(generated_image, 'generated_sample.jpg')\n",
    "    audio = Image2Sound('generated_sample.jpg', conf)\n",
    "    SaveAudio(audio,os.getcwd(),\"testing.mp3\")\n"
   ]
  }
 ],
 "metadata": {
  "kernelspec": {
   "display_name": "Python 3",
   "language": "python",
   "name": "python3"
  },
  "language_info": {
   "codemirror_mode": {
    "name": "ipython",
    "version": 3
   },
   "file_extension": ".py",
   "mimetype": "text/x-python",
   "name": "python",
   "nbconvert_exporter": "python",
   "pygments_lexer": "ipython3",
   "version": "3.10.12"
  }
 },
 "nbformat": 4,
 "nbformat_minor": 5
}
