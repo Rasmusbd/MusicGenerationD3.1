{
 "cells": [
  {
   "cell_type": "markdown",
   "id": "939652a1",
   "metadata": {},
   "source": [
    "# Using the model to cluster songs according to their genre"
   ]
  },
  {
   "cell_type": "code",
   "execution_count": null,
   "id": "36a05486",
   "metadata": {
    "vscode": {
     "languageId": "plaintext"
    }
   },
   "outputs": [],
   "source": []
  }
 ],
 "metadata": {
  "language_info": {
   "name": "python"
  }
 },
 "nbformat": 4,
 "nbformat_minor": 5
}
