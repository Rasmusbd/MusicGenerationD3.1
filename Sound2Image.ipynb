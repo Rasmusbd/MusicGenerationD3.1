{
 "cells": [
  {
   "cell_type": "markdown",
   "id": "650366d9",
   "metadata": {},
   "source": [
    "# Creating a model and training it for generating and clustering music"
   ]
  },
  {
   "cell_type": "markdown",
   "id": "b5677fd0",
   "metadata": {},
   "source": [
    "### Downloading the dataset"
   ]
  },
  {
   "cell_type": "code",
   "execution_count": null,
   "id": "9c947603",
   "metadata": {},
   "outputs": [],
   "source": [
    "\"\"\"import kagglehub\n",
    "\n",
    "# Download latest version\n",
    "path = kagglehub.dataset_download(\"imsparsh/fma-free-music-archive-small-medium\")\n",
    "\n",
    "print(\"Path to dataset files:\", path)\"\"\""
   ]
  },
  {
   "cell_type": "markdown",
   "id": "ff96bade",
   "metadata": {},
   "source": [
    "### Functions needed to transform the .mp3 soundfiles to .jpg images for the training set"
   ]
  },
  {
   "cell_type": "code",
   "execution_count": 4,
   "id": "115bfc82",
   "metadata": {},
   "outputs": [],
   "source": [
    "import numpy as np\n",
    "import librosa\n",
    "import librosa.display\n",
    "import random\n",
    "from PIL import Image\n",
    "import gc\n",
    "import matplotlib.pyplot as plt\n",
    "from scipy import signal\n",
    "from scipy.io import wavfile as wav\n",
    "from numpy.lib import stride_tricks\n",
    "import os\n",
    "# Reading the audio file and applying some transformations (trimming, padding...) to \"clean\" the sound file\n",
    "\n",
    "def read_audio(conf, pathname, trim_long_data):\n",
    "    y, sr = librosa.load(pathname, sr=conf.sampling_rate)\n",
    "    # trim silence\n",
    "    if 0 < len(y): # workaround: 0 length causes error\n",
    "        y, _ = librosa.effects.trim(y) # trim, top_db=default(60)\n",
    "    # make it unified length to conf.samples\n",
    "    if len(y) > conf.samples: # long enough\n",
    "        if trim_long_data:\n",
    "            y = y[0:0+conf.samples]\n",
    "    else: # pad blank\n",
    "        padding = conf.samples - len(y)    # add padding at both ends\n",
    "        offset = padding // 2\n",
    "        y = np.pad(y, (offset, conf.samples - len(y) - offset), 'constant')\n",
    "    return y\n",
    "\n",
    "# Thanks to the librosa library, generating the mel-spectogram from the audio file\n",
    "\n",
    "def audio_to_melspectrogram(conf, audio):\n",
    "    spectrogram = librosa.feature.melspectrogram(y=audio, \n",
    "                                                 sr=conf.sampling_rate,\n",
    "                                                 n_mels=conf.n_mels,\n",
    "                                                 hop_length=conf.hop_length,\n",
    "                                                 n_fft=conf.n_fft,\n",
    "                                                 fmin=conf.fmin,\n",
    "                                                 fmax=conf.fmax)\n",
    "    spectrogram = librosa.power_to_db(spectrogram)\n",
    "    spectrogram = spectrogram.astype(np.float32)\n",
    "    return spectrogram\n",
    "\n",
    "# Adding both previous function together\n",
    "\n",
    "def read_as_melspectrogram(conf, pathname, trim_long_data, debug_display=False):\n",
    "    x = read_audio(conf, pathname, trim_long_data)\n",
    "    mels = audio_to_melspectrogram(conf, x)\n",
    "    return mels\n",
    "\n",
    "# A set of settings that you can adapt to fit your audio files (frequency, average duration, number of Fourier transforms...)\n",
    "\n",
    "class conf:\n",
    "    # Preprocessing settings\n",
    "    sampling_rate = 44100\n",
    "    duration = 30\n",
    "    hop_length = 694\n",
    "    fmin = 20\n",
    "    fmax = sampling_rate // 2\n",
    "    n_mels = 128\n",
    "    n_fft = n_mels * 20\n",
    "    samples = sampling_rate * duration\n",
    "\n",
    "\n",
    "\n",
    "def mono_to_color(X, mean=None, std=None, norm_max=None, norm_min=None, eps=1e-6):\n",
    "    # Stack X as [X,X,X]\n",
    "    X = np.stack([X, X, X], axis=-1)\n",
    "\n",
    "    # Standardize\n",
    "    mean = mean or X.mean()\n",
    "    std = std or X.std()\n",
    "    Xstd = (X - mean) / (std + eps)\n",
    "    _min, _max = Xstd.min(), Xstd.max()\n",
    "    norm_max = norm_max or _max\n",
    "    norm_min = norm_min or _min\n",
    "    if (_max - _min) > eps:\n",
    "        # Scale to [0, 255]\n",
    "        V = Xstd\n",
    "        V[V < norm_min] = norm_min\n",
    "        V[V > norm_max] = norm_max\n",
    "        V = 255 * (V - norm_min) / (norm_max - norm_min)\n",
    "        V = V.astype(np.uint8)\n",
    "    else:\n",
    "        # Just zero\n",
    "        V = np.zeros_like(Xstd, dtype=np.uint8)\n",
    "    return V\n",
    "\n",
    "def rename_file(img_name):\n",
    "    img_name = img_name.split(\"/\")[2]\n",
    "    img_name = img_name[:-4]\n",
    "    img_name += \".jpg\"\n",
    "    return img_name\n",
    "\n",
    "def save_image_from_sound(img_path):\n",
    "    filename = rename_file(img_path)\n",
    "    x = read_as_melspectrogram(conf, img_path, trim_long_data=False, debug_display=True)\n",
    "    #x_color = mono_to_color(x)\n",
    "    x_min, x_max = x.min(), x.max()\n",
    "    x_norm = (x - x_min) / (x_max - x_min + 1e-6)\n",
    "    x_img = (x_norm * 255).astype(np.uint8)\n",
    "    img = Image.fromarray(x_img, mode='L')\n",
    "    img.save(os.path.join('trainImages', filename))\n",
    "    del x\n",
    "    gc.collect()"
   ]
  },
  {
   "cell_type": "markdown",
   "id": "b18447cd",
   "metadata": {},
   "source": [
    "### Convert each song in the dataset to an image and save it"
   ]
  },
  {
   "cell_type": "code",
   "execution_count": 5,
   "id": "bbd8acf5",
   "metadata": {},
   "outputs": [],
   "source": [
    "import os\n",
    "\n",
    "root_dir = 'test_music_folder'\n",
    "for i, (dirpath, dirnames, filenames) in enumerate(os.walk(root_dir)):\n",
    "    #print(f\"At map {i} out of 155\")\n",
    "    for fn in filenames:\n",
    "        if fn.endswith('.mp3'):\n",
    "\n",
    "            full_path = os.path.join(dirpath, fn)\n",
    "            exists = os.path.isfile(rename_file(full_path))\n",
    "            if not exists:\n",
    "                try:\n",
    "                    save_image_from_sound(full_path)\n",
    "                except:\n",
    "                    continue"
   ]
  }
 ],
 "metadata": {
  "kernelspec": {
   "display_name": "Python 3",
   "language": "python",
   "name": "python3"
  },
  "language_info": {
   "codemirror_mode": {
    "name": "ipython",
    "version": 3
   },
   "file_extension": ".py",
   "mimetype": "text/x-python",
   "name": "python",
   "nbconvert_exporter": "python",
   "pygments_lexer": "ipython3",
   "version": "3.10.12"
  }
 },
 "nbformat": 4,
 "nbformat_minor": 5
}
