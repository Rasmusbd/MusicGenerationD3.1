{
 "cells": [
  {
   "cell_type": "markdown",
   "id": "650366d9",
   "metadata": {},
   "source": [
    "# Creating a model and training it for generating and clustering music"
   ]
  },
  {
   "cell_type": "markdown",
   "id": "b5677fd0",
   "metadata": {},
   "source": [
    "### Downloading the dataset"
   ]
  },
  {
   "cell_type": "code",
   "execution_count": null,
   "id": "9c947603",
   "metadata": {},
   "outputs": [],
   "source": [
    "\"\"\"import kagglehub\n",
    "\n",
    "# Download latest version\n",
    "path = kagglehub.dataset_download(\"imsparsh/fma-free-music-archive-small-medium\")\n",
    "\n",
    "print(\"Path to dataset files:\", path)\"\"\""
   ]
  },
  {
   "cell_type": "markdown",
   "id": "ff96bade",
   "metadata": {},
   "source": [
    "### Functions needed to transform the .mp3 soundfiles to .jpg images for the training set"
   ]
  },
  {
   "cell_type": "code",
   "execution_count": 1,
   "id": "115bfc82",
   "metadata": {},
   "outputs": [],
   "source": [
    "import numpy as np\n",
    "import librosa\n",
    "import librosa.display\n",
    "import random\n",
    "from PIL import Image\n",
    "import gc\n",
    "import matplotlib.pyplot as plt\n",
    "from scipy import signal\n",
    "from scipy.io import wavfile as wav\n",
    "from numpy.lib import stride_tricks\n",
    "import os\n",
    "# Reading the audio file and applying some transformations (trimming, padding...) to \"clean\" the sound file\n",
    "\n",
    "def read_audio(conf, pathname, trim_long_data):\n",
    "    y, sr = librosa.load(pathname, sr=conf.sampling_rate)\n",
    "    # trim silence\n",
    "    if 0 < len(y): # workaround: 0 length causes error\n",
    "        y, _ = librosa.effects.trim(y) # trim, top_db=default(60)\n",
    "    # make it unified length to conf.samples\n",
    "    if len(y) > conf.samples: # long enough\n",
    "        if trim_long_data:\n",
    "            y = y[0:0+conf.samples]\n",
    "    else: # pad blank\n",
    "        padding = conf.samples - len(y)    # add padding at both ends\n",
    "        offset = padding // 2\n",
    "        y = np.pad(y, (offset, conf.samples - len(y) - offset), 'constant')\n",
    "    return y\n",
    "\n",
    "# Thanks to the librosa library, generating the mel-spectogram from the audio file\n",
    "\n",
    "def audio_to_melspectrogram(conf, audio):\n",
    "    spectrogram = librosa.feature.melspectrogram(y=audio, \n",
    "                                                 sr=conf.sampling_rate,\n",
    "                                                 n_mels=conf.n_mels,\n",
    "                                                 hop_length=conf.hop_length,\n",
    "                                                 n_fft=conf.n_fft,\n",
    "                                                 fmin=conf.fmin,\n",
    "                                                 fmax=conf.fmax)\n",
    "    spectrogram = librosa.power_to_db(spectrogram)\n",
    "    spectrogram = spectrogram.astype(np.float32)\n",
    "    return spectrogram\n",
    "\n",
    "# Adding both previous function together\n",
    "\n",
    "def read_as_melspectrogram(conf, pathname, trim_long_data, debug_display=False):\n",
    "    x = read_audio(conf, pathname, trim_long_data)\n",
    "    mels = audio_to_melspectrogram(conf, x)\n",
    "    return mels\n",
    "\n",
    "# A set of settings that you can adapt to fit your audio files (frequency, average duration, number of Fourier transforms...)\n",
    "\n",
    "class conf:\n",
    "    sampling_rate = 44100\n",
    "    duration = 30\n",
    "    samples = sampling_rate * duration\n",
    "    n_mels = 256\n",
    "    hop_length = 512\n",
    "    n_fft = 2048  # can stay as 2048 or higher\n",
    "    fmin = 20\n",
    "    fmax = sampling_rate // 2\n",
    "\n",
    "\n",
    "\"\"\"\n",
    "def mono_to_color(X, mean=None, std=None, norm_max=None, norm_min=None, eps=1e-6):\n",
    "    # Stack X as [X,X,X]\n",
    "    X = np.stack([X, X, X], axis=-1)\n",
    "\n",
    "    # Standardize\n",
    "    mean = mean or X.mean()\n",
    "    std = std or X.std()\n",
    "    Xstd = (X - mean) / (std + eps)\n",
    "    _min, _max = Xstd.min(), Xstd.max()\n",
    "    norm_max = norm_max or _max\n",
    "    norm_min = norm_min or _min\n",
    "    if (_max - _min) > eps:\n",
    "        # Scale to [0, 255]\n",
    "        V = Xstd\n",
    "        V[V < norm_min] = norm_min\n",
    "        V[V > norm_max] = norm_max\n",
    "        V = 255 * (V - norm_min) / (norm_max - norm_min)\n",
    "        V = V.astype(np.uint8)\n",
    "    else:\n",
    "        # Just zero\n",
    "        V = np.zeros_like(Xstd, dtype=np.uint8)\n",
    "    return V\n",
    "\"\"\"\n",
    "\n",
    "def normalize_spectrogram(x, global_min=-100.00001, global_max=43.668285):\n",
    "    return (x - global_min) / (global_max - global_min)\n",
    "\n",
    "def rename_file(img_name):\n",
    "    img_name = img_name.split(\"/\")[-1]\n",
    "    img_name = img_name[:-4]\n",
    "    img_name += \".jpg\"\n",
    "    return img_name\n",
    "\n",
    "def save_image_from_sound(img_path):\n",
    "    filename = rename_file(img_path)\n",
    "    x = read_as_melspectrogram(conf, img_path, trim_long_data=False, debug_display=True)\n",
    "    #x_color = mono_to_color(x)\n",
    "    x_norm=normalize_spectrogram(x)\n",
    "    x_img = (x_norm * 255).astype(np.uint8)\n",
    "    img = Image.fromarray(x_img, mode='L')\n",
    "    filename = os.path.basename(rename_file(img_path))  # Only get \"000005.jpg\"\n",
    "    save_dir = 'trainImages'\n",
    "    img.save(os.path.join(save_dir, filename))\n",
    "    del x\n",
    "    gc.collect()"
   ]
  },
  {
   "cell_type": "markdown",
   "id": "fae24274",
   "metadata": {},
   "source": [
    "### Calculate the global min and max to use that for normalization and reconstruction of sound from generated images"
   ]
  },
  {
   "cell_type": "code",
   "execution_count": 3,
   "id": "3e5510c3",
   "metadata": {},
   "outputs": [
    {
     "name": "stdout",
     "output_type": "stream",
     "text": [
      "Total files to process: 25000\n",
      "Progress: 1/25000 files processed\n",
      "Progress: 501/25000 files processed\n"
     ]
    },
    {
     "name": "stderr",
     "output_type": "stream",
     "text": [
      "[src/libmpg123/parse.c:do_readahead():1083] warning: Cannot read next header, a one-frame stream? Duh...\n",
      "/tmp/ipykernel_28282/1302790898.py:15: UserWarning: PySoundFile failed. Trying audioread instead.\n",
      "  y, sr = librosa.load(pathname, sr=conf.sampling_rate)\n",
      "/home/rasmus/.local/lib/python3.10/site-packages/librosa/core/audio.py:184: FutureWarning: librosa.core.audio.__audioread_load\n",
      "\tDeprecated as of librosa version 0.10.0.\n",
      "\tIt will be removed in librosa version 1.0.\n",
      "  y, sr_native = __audioread_load(path, offset, duration, dtype)\n"
     ]
    },
    {
     "name": "stdout",
     "output_type": "stream",
     "text": [
      "Error processing /home/rasmus/.cache/kagglehub/datasets/imsparsh/fma-free-music-archive-small-medium/versions/1/fma_medium/fma_medium/065/065753.mp3: \n",
      "Progress: 1001/25000 files processed\n",
      "Progress: 1501/25000 files processed\n",
      "Progress: 2001/25000 files processed\n",
      "Progress: 2501/25000 files processed\n"
     ]
    },
    {
     "name": "stderr",
     "output_type": "stream",
     "text": [
      "[src/libmpg123/layer3.c:INT123_do_layer3():1804] error: dequantization failed!\n"
     ]
    },
    {
     "name": "stdout",
     "output_type": "stream",
     "text": [
      "Progress: 3001/25000 files processed\n",
      "Progress: 3501/25000 files processed\n"
     ]
    },
    {
     "name": "stderr",
     "output_type": "stream",
     "text": [
      "[src/libmpg123/layer3.c:INT123_do_layer3():1844] error: dequantization failed!\n"
     ]
    },
    {
     "name": "stdout",
     "output_type": "stream",
     "text": [
      "Progress: 4001/25000 files processed\n",
      "Progress: 4501/25000 files processed\n",
      "Progress: 5001/25000 files processed\n",
      "Progress: 5501/25000 files processed\n"
     ]
    },
    {
     "name": "stderr",
     "output_type": "stream",
     "text": [
      "[src/libmpg123/layer3.c:INT123_do_layer3():1804] error: dequantization failed!\n",
      "[src/libmpg123/parse.c:do_readahead():1083] warning: Cannot read next header, a one-frame stream? Duh...\n",
      "/tmp/ipykernel_28282/1302790898.py:15: UserWarning: PySoundFile failed. Trying audioread instead.\n",
      "  y, sr = librosa.load(pathname, sr=conf.sampling_rate)\n",
      "/home/rasmus/.local/lib/python3.10/site-packages/librosa/core/audio.py:184: FutureWarning: librosa.core.audio.__audioread_load\n",
      "\tDeprecated as of librosa version 0.10.0.\n",
      "\tIt will be removed in librosa version 1.0.\n",
      "  y, sr_native = __audioread_load(path, offset, duration, dtype)\n"
     ]
    },
    {
     "name": "stdout",
     "output_type": "stream",
     "text": [
      "Error processing /home/rasmus/.cache/kagglehub/datasets/imsparsh/fma-free-music-archive-small-medium/versions/1/fma_medium/fma_medium/108/108925.mp3: \n",
      "Progress: 6001/25000 files processed\n"
     ]
    },
    {
     "name": "stderr",
     "output_type": "stream",
     "text": [
      "[src/libmpg123/layer3.c:INT123_do_layer3():1804] error: dequantization failed!\n",
      "[src/libmpg123/layer3.c:INT123_do_layer3():1804] error: dequantization failed!\n"
     ]
    },
    {
     "name": "stdout",
     "output_type": "stream",
     "text": [
      "Progress: 6501/25000 files processed\n",
      "Progress: 7001/25000 files processed\n"
     ]
    },
    {
     "name": "stderr",
     "output_type": "stream",
     "text": [
      "[src/libmpg123/layer3.c:INT123_do_layer3():1804] error: dequantization failed!\n"
     ]
    },
    {
     "name": "stdout",
     "output_type": "stream",
     "text": [
      "Progress: 7501/25000 files processed\n"
     ]
    },
    {
     "name": "stderr",
     "output_type": "stream",
     "text": [
      "[src/libmpg123/layer3.c:INT123_do_layer3():1774] error: part2_3_length (3264) too large for available bit count (3224)\n"
     ]
    },
    {
     "name": "stdout",
     "output_type": "stream",
     "text": [
      "Progress: 8001/25000 files processed\n",
      "Error processing /home/rasmus/.cache/kagglehub/datasets/imsparsh/fma-free-music-archive-small-medium/versions/1/fma_medium/fma_medium/105/105247.mp3: \n"
     ]
    },
    {
     "name": "stderr",
     "output_type": "stream",
     "text": [
      "[src/libmpg123/parse.c:do_readahead():1083] warning: Cannot read next header, a one-frame stream? Duh...\n",
      "/tmp/ipykernel_28282/1302790898.py:15: UserWarning: PySoundFile failed. Trying audioread instead.\n",
      "  y, sr = librosa.load(pathname, sr=conf.sampling_rate)\n",
      "/home/rasmus/.local/lib/python3.10/site-packages/librosa/core/audio.py:184: FutureWarning: librosa.core.audio.__audioread_load\n",
      "\tDeprecated as of librosa version 0.10.0.\n",
      "\tIt will be removed in librosa version 1.0.\n",
      "  y, sr_native = __audioread_load(path, offset, duration, dtype)\n"
     ]
    },
    {
     "name": "stdout",
     "output_type": "stream",
     "text": [
      "Progress: 8501/25000 files processed\n",
      "Progress: 9001/25000 files processed\n",
      "Progress: 9501/25000 files processed\n"
     ]
    },
    {
     "name": "stderr",
     "output_type": "stream",
     "text": [
      "[src/libmpg123/layer3.c:INT123_do_layer3():1774] error: part2_3_length (3360) too large for available bit count (3240)\n",
      "[src/libmpg123/layer3.c:INT123_do_layer3():1774] error: part2_3_length (3328) too large for available bit count (3240)\n"
     ]
    },
    {
     "name": "stdout",
     "output_type": "stream",
     "text": [
      "Progress: 10001/25000 files processed\n",
      "Progress: 10501/25000 files processed\n"
     ]
    },
    {
     "name": "stderr",
     "output_type": "stream",
     "text": [
      "[src/libmpg123/parse.c:do_readahead():1083] warning: Cannot read next header, a one-frame stream? Duh...\n",
      "/tmp/ipykernel_28282/1302790898.py:15: UserWarning: PySoundFile failed. Trying audioread instead.\n",
      "  y, sr = librosa.load(pathname, sr=conf.sampling_rate)\n",
      "/home/rasmus/.local/lib/python3.10/site-packages/librosa/core/audio.py:184: FutureWarning: librosa.core.audio.__audioread_load\n",
      "\tDeprecated as of librosa version 0.10.0.\n",
      "\tIt will be removed in librosa version 1.0.\n",
      "  y, sr_native = __audioread_load(path, offset, duration, dtype)\n"
     ]
    },
    {
     "name": "stdout",
     "output_type": "stream",
     "text": [
      "Error processing /home/rasmus/.cache/kagglehub/datasets/imsparsh/fma-free-music-archive-small-medium/versions/1/fma_medium/fma_medium/133/133297.mp3: \n",
      "Progress: 11001/25000 files processed\n",
      "Progress: 11501/25000 files processed\n"
     ]
    },
    {
     "name": "stderr",
     "output_type": "stream",
     "text": [
      "[src/libmpg123/parse.c:do_readahead():1083] warning: Cannot read next header, a one-frame stream? Duh...\n",
      "/tmp/ipykernel_28282/1302790898.py:15: UserWarning: PySoundFile failed. Trying audioread instead.\n",
      "  y, sr = librosa.load(pathname, sr=conf.sampling_rate)\n",
      "/home/rasmus/.local/lib/python3.10/site-packages/librosa/core/audio.py:184: FutureWarning: librosa.core.audio.__audioread_load\n",
      "\tDeprecated as of librosa version 0.10.0.\n",
      "\tIt will be removed in librosa version 1.0.\n",
      "  y, sr_native = __audioread_load(path, offset, duration, dtype)\n"
     ]
    },
    {
     "name": "stdout",
     "output_type": "stream",
     "text": [
      "Progress: 12001/25000 files processed\n",
      "Error processing /home/rasmus/.cache/kagglehub/datasets/imsparsh/fma-free-music-archive-small-medium/versions/1/fma_medium/fma_medium/099/099134.mp3: \n"
     ]
    },
    {
     "name": "stderr",
     "output_type": "stream",
     "text": [
      "[src/libmpg123/layer3.c:INT123_do_layer3():1804] error: dequantization failed!\n",
      "[src/libmpg123/layer3.c:INT123_do_layer3():1804] error: dequantization failed!\n"
     ]
    },
    {
     "name": "stdout",
     "output_type": "stream",
     "text": [
      "Progress: 12501/25000 files processed\n"
     ]
    },
    {
     "name": "stderr",
     "output_type": "stream",
     "text": [
      "[src/libmpg123/layer3.c:INT123_do_layer3():1804] error: dequantization failed!\n",
      "[src/libmpg123/parse.c:do_readahead():1083] warning: Cannot read next header, a one-frame stream? Duh...\n",
      "/tmp/ipykernel_28282/1302790898.py:15: UserWarning: PySoundFile failed. Trying audioread instead.\n",
      "  y, sr = librosa.load(pathname, sr=conf.sampling_rate)\n",
      "/home/rasmus/.local/lib/python3.10/site-packages/librosa/core/audio.py:184: FutureWarning: librosa.core.audio.__audioread_load\n",
      "\tDeprecated as of librosa version 0.10.0.\n",
      "\tIt will be removed in librosa version 1.0.\n",
      "  y, sr_native = __audioread_load(path, offset, duration, dtype)\n"
     ]
    },
    {
     "name": "stdout",
     "output_type": "stream",
     "text": [
      "Error processing /home/rasmus/.cache/kagglehub/datasets/imsparsh/fma-free-music-archive-small-medium/versions/1/fma_medium/fma_medium/143/143992.mp3: \n",
      "Progress: 13001/25000 files processed\n",
      "Progress: 13501/25000 files processed\n",
      "Progress: 14001/25000 files processed\n",
      "Progress: 14501/25000 files processed\n"
     ]
    },
    {
     "name": "stderr",
     "output_type": "stream",
     "text": [
      "/tmp/ipykernel_28282/1302790898.py:15: UserWarning: PySoundFile failed. Trying audioread instead.\n",
      "  y, sr = librosa.load(pathname, sr=conf.sampling_rate)\n",
      "/home/rasmus/.local/lib/python3.10/site-packages/librosa/core/audio.py:184: FutureWarning: librosa.core.audio.__audioread_load\n",
      "\tDeprecated as of librosa version 0.10.0.\n",
      "\tIt will be removed in librosa version 1.0.\n",
      "  y, sr_native = __audioread_load(path, offset, duration, dtype)\n",
      "[src/libmpg123/parse.c:do_readahead():1083] warning: Cannot read next header, a one-frame stream? Duh...\n"
     ]
    },
    {
     "name": "stdout",
     "output_type": "stream",
     "text": [
      "Error processing /home/rasmus/.cache/kagglehub/datasets/imsparsh/fma-free-music-archive-small-medium/versions/1/fma_medium/fma_medium/001/001486.mp3: \n",
      "Progress: 15001/25000 files processed\n",
      "Progress: 15501/25000 files processed\n",
      "Progress: 16001/25000 files processed\n",
      "Progress: 16501/25000 files processed\n"
     ]
    },
    {
     "name": "stderr",
     "output_type": "stream",
     "text": [
      "[src/libmpg123/parse.c:do_readahead():1083] warning: Cannot read next header, a one-frame stream? Duh...\n",
      "/tmp/ipykernel_28282/1302790898.py:15: UserWarning: PySoundFile failed. Trying audioread instead.\n",
      "  y, sr = librosa.load(pathname, sr=conf.sampling_rate)\n",
      "/home/rasmus/.local/lib/python3.10/site-packages/librosa/core/audio.py:184: FutureWarning: librosa.core.audio.__audioread_load\n",
      "\tDeprecated as of librosa version 0.10.0.\n",
      "\tIt will be removed in librosa version 1.0.\n",
      "  y, sr_native = __audioread_load(path, offset, duration, dtype)\n"
     ]
    },
    {
     "name": "stdout",
     "output_type": "stream",
     "text": [
      "Error processing /home/rasmus/.cache/kagglehub/datasets/imsparsh/fma-free-music-archive-small-medium/versions/1/fma_medium/fma_medium/005/005574.mp3: \n",
      "Progress: 17001/25000 files processed\n",
      "Progress: 17501/25000 files processed\n",
      "Progress: 18001/25000 files processed\n",
      "Progress: 18501/25000 files processed\n",
      "Progress: 19001/25000 files processed\n",
      "Progress: 19501/25000 files processed\n"
     ]
    },
    {
     "name": "stderr",
     "output_type": "stream",
     "text": [
      "[src/libmpg123/parse.c:do_readahead():1083] warning: Cannot read next header, a one-frame stream? Duh...\n",
      "/tmp/ipykernel_28282/1302790898.py:15: UserWarning: PySoundFile failed. Trying audioread instead.\n",
      "  y, sr = librosa.load(pathname, sr=conf.sampling_rate)\n",
      "/home/rasmus/.local/lib/python3.10/site-packages/librosa/core/audio.py:184: FutureWarning: librosa.core.audio.__audioread_load\n",
      "\tDeprecated as of librosa version 0.10.0.\n",
      "\tIt will be removed in librosa version 1.0.\n",
      "  y, sr_native = __audioread_load(path, offset, duration, dtype)\n"
     ]
    },
    {
     "name": "stdout",
     "output_type": "stream",
     "text": [
      "Error processing /home/rasmus/.cache/kagglehub/datasets/imsparsh/fma-free-music-archive-small-medium/versions/1/fma_medium/fma_medium/127/127336.mp3: \n"
     ]
    },
    {
     "name": "stderr",
     "output_type": "stream",
     "text": [
      "[src/libmpg123/layer3.c:INT123_do_layer3():1804] error: dequantization failed!\n"
     ]
    },
    {
     "name": "stdout",
     "output_type": "stream",
     "text": [
      "Progress: 20001/25000 files processed\n"
     ]
    },
    {
     "name": "stderr",
     "output_type": "stream",
     "text": [
      "[src/libmpg123/layer3.c:INT123_do_layer3():1804] error: dequantization failed!\n"
     ]
    },
    {
     "name": "stdout",
     "output_type": "stream",
     "text": [
      "Progress: 20501/25000 files processed\n",
      "Progress: 21001/25000 files processed\n",
      "Progress: 21501/25000 files processed\n",
      "Progress: 22001/25000 files processed\n"
     ]
    },
    {
     "name": "stderr",
     "output_type": "stream",
     "text": [
      "Note: Illegal Audio-MPEG-Header 0x00000000 at offset 22401.\n",
      "Note: Trying to resync...\n",
      "Note: Skipped 1024 bytes in input.\n",
      "[src/libmpg123/parse.c:wetwork():1349] error: Giving up resync after 1024 bytes - your stream is not nice... (maybe increasing resync limit could help).\n",
      "/tmp/ipykernel_28282/1302790898.py:15: UserWarning: PySoundFile failed. Trying audioread instead.\n",
      "  y, sr = librosa.load(pathname, sr=conf.sampling_rate)\n",
      "/home/rasmus/.local/lib/python3.10/site-packages/librosa/core/audio.py:184: FutureWarning: librosa.core.audio.__audioread_load\n",
      "\tDeprecated as of librosa version 0.10.0.\n",
      "\tIt will be removed in librosa version 1.0.\n",
      "  y, sr_native = __audioread_load(path, offset, duration, dtype)\n",
      "[src/libmpg123/layer3.c:INT123_do_layer3():1804] error: dequantization failed!\n",
      "Note: Illegal Audio-MPEG-Header 0x00000000 at offset 63168.\n",
      "Note: Trying to resync...\n",
      "Note: Skipped 1024 bytes in input.\n",
      "[src/libmpg123/parse.c:wetwork():1349] error: Giving up resync after 1024 bytes - your stream is not nice... (maybe increasing resync limit could help).\n",
      "Note: Illegal Audio-MPEG-Header 0x00000000 at offset 33361.\n",
      "Note: Trying to resync...\n",
      "Note: Skipped 1024 bytes in input.\n",
      "[src/libmpg123/parse.c:wetwork():1349] error: Giving up resync after 1024 bytes - your stream is not nice... (maybe increasing resync limit could help).\n",
      "[src/libmpg123/parse.c:do_readahead():1083] warning: Cannot read next header, a one-frame stream? Duh...\n"
     ]
    },
    {
     "name": "stdout",
     "output_type": "stream",
     "text": [
      "Error processing /home/rasmus/.cache/kagglehub/datasets/imsparsh/fma-free-music-archive-small-medium/versions/1/fma_medium/fma_medium/098/098571.mp3: \n"
     ]
    },
    {
     "name": "stderr",
     "output_type": "stream",
     "text": [
      "[src/libmpg123/parse.c:do_readahead():1083] warning: Cannot read next header, a one-frame stream? Duh...\n",
      "/tmp/ipykernel_28282/1302790898.py:15: UserWarning: PySoundFile failed. Trying audioread instead.\n",
      "  y, sr = librosa.load(pathname, sr=conf.sampling_rate)\n",
      "/home/rasmus/.local/lib/python3.10/site-packages/librosa/core/audio.py:184: FutureWarning: librosa.core.audio.__audioread_load\n",
      "\tDeprecated as of librosa version 0.10.0.\n",
      "\tIt will be removed in librosa version 1.0.\n",
      "  y, sr_native = __audioread_load(path, offset, duration, dtype)\n"
     ]
    },
    {
     "name": "stdout",
     "output_type": "stream",
     "text": [
      "Error processing /home/rasmus/.cache/kagglehub/datasets/imsparsh/fma-free-music-archive-small-medium/versions/1/fma_medium/fma_medium/098/098559.mp3: \n"
     ]
    },
    {
     "name": "stderr",
     "output_type": "stream",
     "text": [
      "/tmp/ipykernel_28282/1302790898.py:15: UserWarning: PySoundFile failed. Trying audioread instead.\n",
      "  y, sr = librosa.load(pathname, sr=conf.sampling_rate)\n",
      "[src/libmpg123/parse.c:do_readahead():1083] warning: Cannot read next header, a one-frame stream? Duh...\n",
      "/home/rasmus/.local/lib/python3.10/site-packages/librosa/core/audio.py:184: FutureWarning: librosa.core.audio.__audioread_load\n",
      "\tDeprecated as of librosa version 0.10.0.\n",
      "\tIt will be removed in librosa version 1.0.\n",
      "  y, sr_native = __audioread_load(path, offset, duration, dtype)\n"
     ]
    },
    {
     "name": "stdout",
     "output_type": "stream",
     "text": [
      "Error processing /home/rasmus/.cache/kagglehub/datasets/imsparsh/fma-free-music-archive-small-medium/versions/1/fma_medium/fma_medium/098/098560.mp3: \n"
     ]
    },
    {
     "name": "stderr",
     "output_type": "stream",
     "text": [
      "[src/libmpg123/parse.c:do_readahead():1083] warning: Cannot read next header, a one-frame stream? Duh...\n",
      "/tmp/ipykernel_28282/1302790898.py:15: UserWarning: PySoundFile failed. Trying audioread instead.\n",
      "  y, sr = librosa.load(pathname, sr=conf.sampling_rate)\n",
      "/home/rasmus/.local/lib/python3.10/site-packages/librosa/core/audio.py:184: FutureWarning: librosa.core.audio.__audioread_load\n",
      "\tDeprecated as of librosa version 0.10.0.\n",
      "\tIt will be removed in librosa version 1.0.\n",
      "  y, sr_native = __audioread_load(path, offset, duration, dtype)\n"
     ]
    },
    {
     "name": "stdout",
     "output_type": "stream",
     "text": [
      "Error processing /home/rasmus/.cache/kagglehub/datasets/imsparsh/fma-free-music-archive-small-medium/versions/1/fma_medium/fma_medium/098/098558.mp3: \n"
     ]
    },
    {
     "name": "stderr",
     "output_type": "stream",
     "text": [
      "/tmp/ipykernel_28282/1302790898.py:15: UserWarning: PySoundFile failed. Trying audioread instead.\n",
      "  y, sr = librosa.load(pathname, sr=conf.sampling_rate)\n",
      "Note: Illegal Audio-MPEG-Header 0x00000000 at offset 187493.\n",
      "Note: Trying to resync...\n",
      "Note: Skipped 1024 bytes in input.\n",
      "[src/libmpg123/parse.c:wetwork():1349] error: Giving up resync after 1024 bytes - your stream is not nice... (maybe increasing resync limit could help).\n",
      "/home/rasmus/.local/lib/python3.10/site-packages/librosa/core/audio.py:184: FutureWarning: librosa.core.audio.__audioread_load\n",
      "\tDeprecated as of librosa version 0.10.0.\n",
      "\tIt will be removed in librosa version 1.0.\n",
      "  y, sr_native = __audioread_load(path, offset, duration, dtype)\n",
      "Note: Illegal Audio-MPEG-Header 0x00000000 at offset 106439.\n",
      "Note: Trying to resync...\n",
      "Note: Skipped 1024 bytes in input.\n",
      "[src/libmpg123/parse.c:wetwork():1349] error: Giving up resync after 1024 bytes - your stream is not nice... (maybe increasing resync limit could help).\n"
     ]
    },
    {
     "name": "stdout",
     "output_type": "stream",
     "text": [
      "Progress: 22501/25000 files processed\n"
     ]
    },
    {
     "name": "stderr",
     "output_type": "stream",
     "text": [
      "[src/libmpg123/parse.c:do_readahead():1083] warning: Cannot read next header, a one-frame stream? Duh...\n",
      "/tmp/ipykernel_28282/1302790898.py:15: UserWarning: PySoundFile failed. Trying audioread instead.\n",
      "  y, sr = librosa.load(pathname, sr=conf.sampling_rate)\n",
      "/home/rasmus/.local/lib/python3.10/site-packages/librosa/core/audio.py:184: FutureWarning: librosa.core.audio.__audioread_load\n",
      "\tDeprecated as of librosa version 0.10.0.\n",
      "\tIt will be removed in librosa version 1.0.\n",
      "  y, sr_native = __audioread_load(path, offset, duration, dtype)\n"
     ]
    },
    {
     "name": "stdout",
     "output_type": "stream",
     "text": [
      "Error processing /home/rasmus/.cache/kagglehub/datasets/imsparsh/fma-free-music-archive-small-medium/versions/1/fma_medium/fma_medium/080/080391.mp3: \n",
      "Progress: 23001/25000 files processed\n",
      "Progress: 23501/25000 files processed\n"
     ]
    },
    {
     "name": "stderr",
     "output_type": "stream",
     "text": [
      "[src/libmpg123/parse.c:do_readahead():1083] warning: Cannot read next header, a one-frame stream? Duh...\n",
      "/tmp/ipykernel_28282/1302790898.py:15: UserWarning: PySoundFile failed. Trying audioread instead.\n",
      "  y, sr = librosa.load(pathname, sr=conf.sampling_rate)\n",
      "/home/rasmus/.local/lib/python3.10/site-packages/librosa/core/audio.py:184: FutureWarning: librosa.core.audio.__audioread_load\n",
      "\tDeprecated as of librosa version 0.10.0.\n",
      "\tIt will be removed in librosa version 1.0.\n",
      "  y, sr_native = __audioread_load(path, offset, duration, dtype)\n"
     ]
    },
    {
     "name": "stdout",
     "output_type": "stream",
     "text": [
      "Error processing /home/rasmus/.cache/kagglehub/datasets/imsparsh/fma-free-music-archive-small-medium/versions/1/fma_medium/fma_medium/126/126981.mp3: \n",
      "Progress: 24001/25000 files processed\n"
     ]
    },
    {
     "name": "stderr",
     "output_type": "stream",
     "text": [
      "[src/libmpg123/layer3.c:INT123_do_layer3():1844] error: dequantization failed!\n"
     ]
    },
    {
     "name": "stdout",
     "output_type": "stream",
     "text": [
      "Progress: 24501/25000 files processed\n",
      "Progress: 25000/25000 files processed\n",
      "Global min: -100.00000762939453, Global max: 43.66828536987305\n"
     ]
    },
    {
     "data": {
      "text/plain": [
       "(-100.00001, 43.668285)"
      ]
     },
     "execution_count": 3,
     "metadata": {},
     "output_type": "execute_result"
    }
   ],
   "source": [
    "import os\n",
    "import numpy as np\n",
    "from concurrent.futures import ThreadPoolExecutor, as_completed\n",
    "import librosa\n",
    "\n",
    "def calculate_global_min_max(full_path, conf):\n",
    "    try:\n",
    "        # Convert audio to mel spectrogram\n",
    "        mel_spec = read_as_melspectrogram(conf, full_path, trim_long_data=False)\n",
    "        # Return the min and max of the spectrogram\n",
    "        return mel_spec.min(), mel_spec.max()\n",
    "    except Exception as e:\n",
    "        print(f\"Error processing {full_path}: {e}\")\n",
    "        return None\n",
    "\n",
    "def calculate_dataset_min_max():\n",
    "    root_dir = '/home/rasmus/.cache/kagglehub/datasets/imsparsh/fma-free-music-archive-small-medium/versions/1/fma_medium'  # Change to your path\n",
    "    all_mins = []\n",
    "    all_maxs = []\n",
    "    futures = []\n",
    "    \n",
    "    # List all mp3 files\n",
    "    all_files = []\n",
    "    for dirpath, dirnames, filenames in os.walk(root_dir):\n",
    "        for fn in filenames:\n",
    "            if fn.endswith('.mp3'):\n",
    "                all_files.append(os.path.join(dirpath, fn))\n",
    "    \n",
    "    total_files = len(all_files)\n",
    "    print(f\"Total files to process: {total_files}\")\n",
    "    \n",
    "    with ThreadPoolExecutor() as executor:\n",
    "        for full_path in all_files:\n",
    "            futures.append(executor.submit(calculate_global_min_max, full_path, conf))\n",
    "        \n",
    "        # Track progress as files are completed\n",
    "        for idx, future in enumerate(as_completed(futures)):\n",
    "            if idx % 500 == 0 or idx == total_files - 1:  # Print progress every 500 files or on the last file\n",
    "                print(f\"Progress: {idx + 1}/{total_files} files processed\")\n",
    "                \n",
    "            result = future.result()\n",
    "            if result:\n",
    "                all_mins.append(result[0])\n",
    "                all_maxs.append(result[1])\n",
    "    \n",
    "    # Compute the overall min and max from all spectrograms\n",
    "    global_min = np.min(all_mins)\n",
    "    global_max = np.max(all_maxs)\n",
    "    \n",
    "    print(f\"Global min: {global_min}, Global max: {global_max}\")\n",
    "    return global_min, global_max\n",
    "\n",
    "calculate_dataset_min_max()"
   ]
  },
  {
   "cell_type": "markdown",
   "id": "b18447cd",
   "metadata": {},
   "source": [
    "### Convert each song in the dataset to an image and save it"
   ]
  },
  {
   "cell_type": "code",
   "execution_count": 2,
   "id": "bbd8acf5",
   "metadata": {},
   "outputs": [
    {
     "name": "stdout",
     "output_type": "stream",
     "text": [
      "Progress: 1/25000 files processed\n",
      "Progress: 501/25000 files processed\n"
     ]
    },
    {
     "name": "stderr",
     "output_type": "stream",
     "text": [
      "[src/libmpg123/parse.c:do_readahead():1083] warning: Cannot read next header, a one-frame stream? Duh...\n",
      "/tmp/ipykernel_27187/2012216425.py:15: UserWarning: PySoundFile failed. Trying audioread instead.\n",
      "  y, sr = librosa.load(pathname, sr=conf.sampling_rate)\n",
      "/home/rasmus/.local/lib/python3.10/site-packages/librosa/core/audio.py:184: FutureWarning: librosa.core.audio.__audioread_load\n",
      "\tDeprecated as of librosa version 0.10.0.\n",
      "\tIt will be removed in librosa version 1.0.\n",
      "  y, sr_native = __audioread_load(path, offset, duration, dtype)\n"
     ]
    },
    {
     "name": "stdout",
     "output_type": "stream",
     "text": [
      "Error processing /home/rasmus/.cache/kagglehub/datasets/imsparsh/fma-free-music-archive-small-medium/versions/1/fma_medium/fma_medium/065/065753.mp3: \n",
      "Progress: 1001/25000 files processed\n",
      "Progress: 1501/25000 files processed\n",
      "Progress: 2001/25000 files processed\n",
      "Progress: 2501/25000 files processed\n"
     ]
    },
    {
     "name": "stderr",
     "output_type": "stream",
     "text": [
      "[src/libmpg123/layer3.c:INT123_do_layer3():1804] error: dequantization failed!\n"
     ]
    },
    {
     "name": "stdout",
     "output_type": "stream",
     "text": [
      "Progress: 3001/25000 files processed\n",
      "Progress: 3501/25000 files processed\n"
     ]
    },
    {
     "name": "stderr",
     "output_type": "stream",
     "text": [
      "[src/libmpg123/layer3.c:INT123_do_layer3():1844] error: dequantization failed!\n"
     ]
    },
    {
     "name": "stdout",
     "output_type": "stream",
     "text": [
      "Progress: 4001/25000 files processed\n",
      "Progress: 4501/25000 files processed\n",
      "Progress: 5001/25000 files processed\n",
      "Progress: 5501/25000 files processed\n"
     ]
    },
    {
     "name": "stderr",
     "output_type": "stream",
     "text": [
      "[src/libmpg123/layer3.c:INT123_do_layer3():1804] error: dequantization failed!\n",
      "[src/libmpg123/parse.c:do_readahead():1083] warning: Cannot read next header, a one-frame stream? Duh...\n",
      "/tmp/ipykernel_27187/2012216425.py:15: UserWarning: PySoundFile failed. Trying audioread instead.\n",
      "  y, sr = librosa.load(pathname, sr=conf.sampling_rate)\n",
      "/home/rasmus/.local/lib/python3.10/site-packages/librosa/core/audio.py:184: FutureWarning: librosa.core.audio.__audioread_load\n",
      "\tDeprecated as of librosa version 0.10.0.\n",
      "\tIt will be removed in librosa version 1.0.\n",
      "  y, sr_native = __audioread_load(path, offset, duration, dtype)\n"
     ]
    },
    {
     "name": "stdout",
     "output_type": "stream",
     "text": [
      "Error processing /home/rasmus/.cache/kagglehub/datasets/imsparsh/fma-free-music-archive-small-medium/versions/1/fma_medium/fma_medium/108/108925.mp3: \n",
      "Progress: 6001/25000 files processed\n"
     ]
    },
    {
     "name": "stderr",
     "output_type": "stream",
     "text": [
      "[src/libmpg123/layer3.c:INT123_do_layer3():1804] error: dequantization failed!\n",
      "[src/libmpg123/layer3.c:INT123_do_layer3():1804] error: dequantization failed!\n"
     ]
    },
    {
     "name": "stdout",
     "output_type": "stream",
     "text": [
      "Progress: 6501/25000 files processed\n",
      "Progress: 7001/25000 files processed\n"
     ]
    },
    {
     "name": "stderr",
     "output_type": "stream",
     "text": [
      "[src/libmpg123/layer3.c:INT123_do_layer3():1804] error: dequantization failed!\n"
     ]
    },
    {
     "name": "stdout",
     "output_type": "stream",
     "text": [
      "Progress: 7501/25000 files processed\n"
     ]
    },
    {
     "name": "stderr",
     "output_type": "stream",
     "text": [
      "[src/libmpg123/layer3.c:INT123_do_layer3():1774] error: part2_3_length (3264) too large for available bit count (3224)\n"
     ]
    },
    {
     "name": "stdout",
     "output_type": "stream",
     "text": [
      "Progress: 8001/25000 files processed\n"
     ]
    },
    {
     "name": "stderr",
     "output_type": "stream",
     "text": [
      "[src/libmpg123/parse.c:do_readahead():1083] warning: Cannot read next header, a one-frame stream? Duh...\n",
      "/tmp/ipykernel_27187/2012216425.py:15: UserWarning: PySoundFile failed. Trying audioread instead.\n",
      "  y, sr = librosa.load(pathname, sr=conf.sampling_rate)\n",
      "/home/rasmus/.local/lib/python3.10/site-packages/librosa/core/audio.py:184: FutureWarning: librosa.core.audio.__audioread_load\n",
      "\tDeprecated as of librosa version 0.10.0.\n",
      "\tIt will be removed in librosa version 1.0.\n",
      "  y, sr_native = __audioread_load(path, offset, duration, dtype)\n"
     ]
    },
    {
     "name": "stdout",
     "output_type": "stream",
     "text": [
      "Error processing /home/rasmus/.cache/kagglehub/datasets/imsparsh/fma-free-music-archive-small-medium/versions/1/fma_medium/fma_medium/105/105247.mp3: \n",
      "Progress: 8501/25000 files processed\n",
      "Progress: 9001/25000 files processed\n",
      "Progress: 9501/25000 files processed\n"
     ]
    },
    {
     "name": "stderr",
     "output_type": "stream",
     "text": [
      "[src/libmpg123/layer3.c:INT123_do_layer3():1774] error: part2_3_length (3360) too large for available bit count (3240)\n",
      "[src/libmpg123/layer3.c:INT123_do_layer3():1774] error: part2_3_length (3328) too large for available bit count (3240)\n"
     ]
    },
    {
     "name": "stdout",
     "output_type": "stream",
     "text": [
      "Progress: 10001/25000 files processed\n",
      "Progress: 10501/25000 files processed\n"
     ]
    },
    {
     "name": "stderr",
     "output_type": "stream",
     "text": [
      "[src/libmpg123/parse.c:do_readahead():1083] warning: Cannot read next header, a one-frame stream? Duh...\n",
      "/tmp/ipykernel_27187/2012216425.py:15: UserWarning: PySoundFile failed. Trying audioread instead.\n",
      "  y, sr = librosa.load(pathname, sr=conf.sampling_rate)\n",
      "/home/rasmus/.local/lib/python3.10/site-packages/librosa/core/audio.py:184: FutureWarning: librosa.core.audio.__audioread_load\n",
      "\tDeprecated as of librosa version 0.10.0.\n",
      "\tIt will be removed in librosa version 1.0.\n",
      "  y, sr_native = __audioread_load(path, offset, duration, dtype)\n"
     ]
    },
    {
     "name": "stdout",
     "output_type": "stream",
     "text": [
      "Error processing /home/rasmus/.cache/kagglehub/datasets/imsparsh/fma-free-music-archive-small-medium/versions/1/fma_medium/fma_medium/133/133297.mp3: \n",
      "Progress: 11001/25000 files processed\n",
      "Progress: 11501/25000 files processed\n"
     ]
    },
    {
     "name": "stderr",
     "output_type": "stream",
     "text": [
      "/tmp/ipykernel_27187/2012216425.py:15: UserWarning: PySoundFile failed. Trying audioread instead.\n",
      "  y, sr = librosa.load(pathname, sr=conf.sampling_rate)\n",
      "/home/rasmus/.local/lib/python3.10/site-packages/librosa/core/audio.py:184: FutureWarning: librosa.core.audio.__audioread_load\n",
      "\tDeprecated as of librosa version 0.10.0.\n",
      "\tIt will be removed in librosa version 1.0.\n",
      "  y, sr_native = __audioread_load(path, offset, duration, dtype)\n",
      "[src/libmpg123/parse.c:do_readahead():1083] warning: Cannot read next header, a one-frame stream? Duh...\n"
     ]
    },
    {
     "name": "stdout",
     "output_type": "stream",
     "text": [
      "Error processing /home/rasmus/.cache/kagglehub/datasets/imsparsh/fma-free-music-archive-small-medium/versions/1/fma_medium/fma_medium/099/099134.mp3: \n",
      "Progress: 12001/25000 files processed\n"
     ]
    },
    {
     "name": "stderr",
     "output_type": "stream",
     "text": [
      "[src/libmpg123/layer3.c:INT123_do_layer3():1804] error: dequantization failed!\n",
      "[src/libmpg123/layer3.c:INT123_do_layer3():1804] error: dequantization failed!\n"
     ]
    },
    {
     "name": "stdout",
     "output_type": "stream",
     "text": [
      "Progress: 12501/25000 files processed\n"
     ]
    },
    {
     "name": "stderr",
     "output_type": "stream",
     "text": [
      "[src/libmpg123/layer3.c:INT123_do_layer3():1804] error: dequantization failed!\n",
      "[src/libmpg123/parse.c:do_readahead():1083] warning: Cannot read next header, a one-frame stream? Duh...\n",
      "/tmp/ipykernel_27187/2012216425.py:15: UserWarning: PySoundFile failed. Trying audioread instead.\n",
      "  y, sr = librosa.load(pathname, sr=conf.sampling_rate)\n",
      "/home/rasmus/.local/lib/python3.10/site-packages/librosa/core/audio.py:184: FutureWarning: librosa.core.audio.__audioread_load\n",
      "\tDeprecated as of librosa version 0.10.0.\n",
      "\tIt will be removed in librosa version 1.0.\n",
      "  y, sr_native = __audioread_load(path, offset, duration, dtype)\n"
     ]
    },
    {
     "name": "stdout",
     "output_type": "stream",
     "text": [
      "Error processing /home/rasmus/.cache/kagglehub/datasets/imsparsh/fma-free-music-archive-small-medium/versions/1/fma_medium/fma_medium/143/143992.mp3: \n",
      "Progress: 13001/25000 files processed\n",
      "Progress: 13501/25000 files processed\n",
      "Progress: 14001/25000 files processed\n",
      "Progress: 14501/25000 files processed\n"
     ]
    },
    {
     "name": "stderr",
     "output_type": "stream",
     "text": [
      "/tmp/ipykernel_27187/2012216425.py:15: UserWarning: PySoundFile failed. Trying audioread instead.\n",
      "  y, sr = librosa.load(pathname, sr=conf.sampling_rate)\n",
      "/home/rasmus/.local/lib/python3.10/site-packages/librosa/core/audio.py:184: FutureWarning: librosa.core.audio.__audioread_load\n",
      "\tDeprecated as of librosa version 0.10.0.\n",
      "\tIt will be removed in librosa version 1.0.\n",
      "  y, sr_native = __audioread_load(path, offset, duration, dtype)\n",
      "[src/libmpg123/parse.c:do_readahead():1083] warning: Cannot read next header, a one-frame stream? Duh...\n"
     ]
    },
    {
     "name": "stdout",
     "output_type": "stream",
     "text": [
      "Error processing /home/rasmus/.cache/kagglehub/datasets/imsparsh/fma-free-music-archive-small-medium/versions/1/fma_medium/fma_medium/001/001486.mp3: \n",
      "Progress: 15001/25000 files processed\n",
      "Progress: 15501/25000 files processed\n",
      "Progress: 16001/25000 files processed\n",
      "Progress: 16501/25000 files processed\n"
     ]
    },
    {
     "name": "stderr",
     "output_type": "stream",
     "text": [
      "[src/libmpg123/parse.c:do_readahead():1083] warning: Cannot read next header, a one-frame stream? Duh...\n",
      "/tmp/ipykernel_27187/2012216425.py:15: UserWarning: PySoundFile failed. Trying audioread instead.\n",
      "  y, sr = librosa.load(pathname, sr=conf.sampling_rate)\n",
      "/home/rasmus/.local/lib/python3.10/site-packages/librosa/core/audio.py:184: FutureWarning: librosa.core.audio.__audioread_load\n",
      "\tDeprecated as of librosa version 0.10.0.\n",
      "\tIt will be removed in librosa version 1.0.\n",
      "  y, sr_native = __audioread_load(path, offset, duration, dtype)\n"
     ]
    },
    {
     "name": "stdout",
     "output_type": "stream",
     "text": [
      "Error processing /home/rasmus/.cache/kagglehub/datasets/imsparsh/fma-free-music-archive-small-medium/versions/1/fma_medium/fma_medium/005/005574.mp3: \n",
      "Progress: 17001/25000 files processed\n",
      "Progress: 17501/25000 files processed\n",
      "Progress: 18001/25000 files processed\n",
      "Progress: 18501/25000 files processed\n",
      "Progress: 19001/25000 files processed\n",
      "Progress: 19501/25000 files processed\n"
     ]
    },
    {
     "name": "stderr",
     "output_type": "stream",
     "text": [
      "[src/libmpg123/parse.c:do_readahead():1083] warning: Cannot read next header, a one-frame stream? Duh...\n",
      "/tmp/ipykernel_27187/2012216425.py:15: UserWarning: PySoundFile failed. Trying audioread instead.\n",
      "  y, sr = librosa.load(pathname, sr=conf.sampling_rate)\n",
      "/home/rasmus/.local/lib/python3.10/site-packages/librosa/core/audio.py:184: FutureWarning: librosa.core.audio.__audioread_load\n",
      "\tDeprecated as of librosa version 0.10.0.\n",
      "\tIt will be removed in librosa version 1.0.\n",
      "  y, sr_native = __audioread_load(path, offset, duration, dtype)\n"
     ]
    },
    {
     "name": "stdout",
     "output_type": "stream",
     "text": [
      "Error processing /home/rasmus/.cache/kagglehub/datasets/imsparsh/fma-free-music-archive-small-medium/versions/1/fma_medium/fma_medium/127/127336.mp3: \n"
     ]
    },
    {
     "name": "stderr",
     "output_type": "stream",
     "text": [
      "[src/libmpg123/layer3.c:INT123_do_layer3():1804] error: dequantization failed!\n"
     ]
    },
    {
     "name": "stdout",
     "output_type": "stream",
     "text": [
      "Progress: 20001/25000 files processed\n"
     ]
    },
    {
     "name": "stderr",
     "output_type": "stream",
     "text": [
      "[src/libmpg123/layer3.c:INT123_do_layer3():1804] error: dequantization failed!\n"
     ]
    },
    {
     "name": "stdout",
     "output_type": "stream",
     "text": [
      "Progress: 20501/25000 files processed\n",
      "Progress: 21001/25000 files processed\n",
      "Progress: 21501/25000 files processed\n",
      "Progress: 22001/25000 files processed\n"
     ]
    },
    {
     "name": "stderr",
     "output_type": "stream",
     "text": [
      "Note: Illegal Audio-MPEG-Header 0x00000000 at offset 22401.\n",
      "Note: Trying to resync...\n",
      "Note: Skipped 1024 bytes in input.\n",
      "[src/libmpg123/parse.c:wetwork():1349] error: Giving up resync after 1024 bytes - your stream is not nice... (maybe increasing resync limit could help).\n",
      "/tmp/ipykernel_27187/2012216425.py:15: UserWarning: PySoundFile failed. Trying audioread instead.\n",
      "  y, sr = librosa.load(pathname, sr=conf.sampling_rate)\n",
      "/home/rasmus/.local/lib/python3.10/site-packages/librosa/core/audio.py:184: FutureWarning: librosa.core.audio.__audioread_load\n",
      "\tDeprecated as of librosa version 0.10.0.\n",
      "\tIt will be removed in librosa version 1.0.\n",
      "  y, sr_native = __audioread_load(path, offset, duration, dtype)\n",
      "[src/libmpg123/layer3.c:INT123_do_layer3():1804] error: dequantization failed!\n",
      "Note: Illegal Audio-MPEG-Header 0x00000000 at offset 63168.\n",
      "Note: Trying to resync...\n",
      "Note: Skipped 1024 bytes in input.\n",
      "[src/libmpg123/parse.c:wetwork():1349] error: Giving up resync after 1024 bytes - your stream is not nice... (maybe increasing resync limit could help).\n",
      "Note: Illegal Audio-MPEG-Header 0x00000000 at offset 33361.\n",
      "Note: Trying to resync...\n",
      "Note: Skipped 1024 bytes in input.\n",
      "[src/libmpg123/parse.c:wetwork():1349] error: Giving up resync after 1024 bytes - your stream is not nice... (maybe increasing resync limit could help).\n",
      "[src/libmpg123/parse.c:do_readahead():1083] warning: Cannot read next header, a one-frame stream? Duh...\n"
     ]
    },
    {
     "name": "stdout",
     "output_type": "stream",
     "text": [
      "Error processing /home/rasmus/.cache/kagglehub/datasets/imsparsh/fma-free-music-archive-small-medium/versions/1/fma_medium/fma_medium/098/098571.mp3: \n"
     ]
    },
    {
     "name": "stderr",
     "output_type": "stream",
     "text": [
      "/tmp/ipykernel_27187/2012216425.py:15: UserWarning: PySoundFile failed. Trying audioread instead.\n",
      "  y, sr = librosa.load(pathname, sr=conf.sampling_rate)\n",
      "/home/rasmus/.local/lib/python3.10/site-packages/librosa/core/audio.py:184: FutureWarning: librosa.core.audio.__audioread_load\n",
      "\tDeprecated as of librosa version 0.10.0.\n",
      "\tIt will be removed in librosa version 1.0.\n",
      "  y, sr_native = __audioread_load(path, offset, duration, dtype)\n",
      "[src/libmpg123/parse.c:do_readahead():1083] warning: Cannot read next header, a one-frame stream? Duh...\n"
     ]
    },
    {
     "name": "stdout",
     "output_type": "stream",
     "text": [
      "Error processing /home/rasmus/.cache/kagglehub/datasets/imsparsh/fma-free-music-archive-small-medium/versions/1/fma_medium/fma_medium/098/098559.mp3: \n"
     ]
    },
    {
     "name": "stderr",
     "output_type": "stream",
     "text": [
      "[src/libmpg123/parse.c:do_readahead():1083] warning: Cannot read next header, a one-frame stream? Duh...\n",
      "/tmp/ipykernel_27187/2012216425.py:15: UserWarning: PySoundFile failed. Trying audioread instead.\n",
      "  y, sr = librosa.load(pathname, sr=conf.sampling_rate)\n",
      "/home/rasmus/.local/lib/python3.10/site-packages/librosa/core/audio.py:184: FutureWarning: librosa.core.audio.__audioread_load\n",
      "\tDeprecated as of librosa version 0.10.0.\n",
      "\tIt will be removed in librosa version 1.0.\n",
      "  y, sr_native = __audioread_load(path, offset, duration, dtype)\n"
     ]
    },
    {
     "name": "stdout",
     "output_type": "stream",
     "text": [
      "Error processing /home/rasmus/.cache/kagglehub/datasets/imsparsh/fma-free-music-archive-small-medium/versions/1/fma_medium/fma_medium/098/098560.mp3: \n"
     ]
    },
    {
     "name": "stderr",
     "output_type": "stream",
     "text": [
      "/tmp/ipykernel_27187/2012216425.py:15: UserWarning: PySoundFile failed. Trying audioread instead.\n",
      "  y, sr = librosa.load(pathname, sr=conf.sampling_rate)\n",
      "[src/libmpg123/parse.c:do_readahead():1083] warning: Cannot read next header, a one-frame stream? Duh...\n",
      "/home/rasmus/.local/lib/python3.10/site-packages/librosa/core/audio.py:184: FutureWarning: librosa.core.audio.__audioread_load\n",
      "\tDeprecated as of librosa version 0.10.0.\n",
      "\tIt will be removed in librosa version 1.0.\n",
      "  y, sr_native = __audioread_load(path, offset, duration, dtype)\n"
     ]
    },
    {
     "name": "stdout",
     "output_type": "stream",
     "text": [
      "Error processing /home/rasmus/.cache/kagglehub/datasets/imsparsh/fma-free-music-archive-small-medium/versions/1/fma_medium/fma_medium/098/098558.mp3: \n"
     ]
    },
    {
     "name": "stderr",
     "output_type": "stream",
     "text": [
      "Note: Illegal Audio-MPEG-Header 0x00000000 at offset 187493.\n",
      "Note: Trying to resync...\n",
      "/tmp/ipykernel_27187/2012216425.py:15: UserWarning: PySoundFile failed. Trying audioread instead.\n",
      "  y, sr = librosa.load(pathname, sr=conf.sampling_rate)\n",
      "/home/rasmus/.local/lib/python3.10/site-packages/librosa/core/audio.py:184: FutureWarning: librosa.core.audio.__audioread_load\n",
      "\tDeprecated as of librosa version 0.10.0.\n",
      "\tIt will be removed in librosa version 1.0.\n",
      "  y, sr_native = __audioread_load(path, offset, duration, dtype)\n",
      "Note: Skipped 1024 bytes in input.\n",
      "[src/libmpg123/parse.c:wetwork():1349] error: Giving up resync after 1024 bytes - your stream is not nice... (maybe increasing resync limit could help).\n",
      "Note: Illegal Audio-MPEG-Header 0x00000000 at offset 106439.\n",
      "Note: Trying to resync...\n",
      "Note: Skipped 1024 bytes in input.\n",
      "[src/libmpg123/parse.c:wetwork():1349] error: Giving up resync after 1024 bytes - your stream is not nice... (maybe increasing resync limit could help).\n"
     ]
    },
    {
     "name": "stdout",
     "output_type": "stream",
     "text": [
      "Progress: 22501/25000 files processed\n"
     ]
    },
    {
     "name": "stderr",
     "output_type": "stream",
     "text": [
      "/tmp/ipykernel_27187/2012216425.py:15: UserWarning: PySoundFile failed. Trying audioread instead.\n",
      "  y, sr = librosa.load(pathname, sr=conf.sampling_rate)\n",
      "/home/rasmus/.local/lib/python3.10/site-packages/librosa/core/audio.py:184: FutureWarning: librosa.core.audio.__audioread_load\n",
      "\tDeprecated as of librosa version 0.10.0.\n",
      "\tIt will be removed in librosa version 1.0.\n",
      "  y, sr_native = __audioread_load(path, offset, duration, dtype)\n",
      "[src/libmpg123/parse.c:do_readahead():1083] warning: Cannot read next header, a one-frame stream? Duh...\n"
     ]
    },
    {
     "name": "stdout",
     "output_type": "stream",
     "text": [
      "Error processing /home/rasmus/.cache/kagglehub/datasets/imsparsh/fma-free-music-archive-small-medium/versions/1/fma_medium/fma_medium/080/080391.mp3: \n",
      "Progress: 23001/25000 files processed\n",
      "Progress: 23501/25000 files processed\n"
     ]
    },
    {
     "name": "stderr",
     "output_type": "stream",
     "text": [
      "[src/libmpg123/parse.c:do_readahead():1083] warning: Cannot read next header, a one-frame stream? Duh...\n",
      "/tmp/ipykernel_27187/2012216425.py:15: UserWarning: PySoundFile failed. Trying audioread instead.\n",
      "  y, sr = librosa.load(pathname, sr=conf.sampling_rate)\n",
      "/home/rasmus/.local/lib/python3.10/site-packages/librosa/core/audio.py:184: FutureWarning: librosa.core.audio.__audioread_load\n",
      "\tDeprecated as of librosa version 0.10.0.\n",
      "\tIt will be removed in librosa version 1.0.\n",
      "  y, sr_native = __audioread_load(path, offset, duration, dtype)\n"
     ]
    },
    {
     "name": "stdout",
     "output_type": "stream",
     "text": [
      "Error processing /home/rasmus/.cache/kagglehub/datasets/imsparsh/fma-free-music-archive-small-medium/versions/1/fma_medium/fma_medium/126/126981.mp3: \n",
      "Progress: 24001/25000 files processed\n"
     ]
    },
    {
     "name": "stderr",
     "output_type": "stream",
     "text": [
      "[src/libmpg123/layer3.c:INT123_do_layer3():1844] error: dequantization failed!\n"
     ]
    },
    {
     "name": "stdout",
     "output_type": "stream",
     "text": [
      "Progress: 24501/25000 files processed\n"
     ]
    }
   ],
   "source": [
    "import os\n",
    "from concurrent.futures import ThreadPoolExecutor, as_completed\n",
    "\n",
    "def process_file(full_path):\n",
    "    try:\n",
    "        exists = os.path.isfile(rename_file(full_path))\n",
    "        if not exists:\n",
    "            save_image_from_sound(full_path)\n",
    "    except Exception as e:\n",
    "        print(f\"Error processing {full_path}: {e}\")\n",
    "        return  #Continue processing other files even if one fails\n",
    "\n",
    "def ParalellConvertImage():\n",
    "    root_dir = '/home/rasmus/.cache/kagglehub/datasets/imsparsh/fma-free-music-archive-small-medium/versions/1/fma_medium' #Change to your path\n",
    "    futures = []\n",
    "    total_files = sum([len(files) for _, _, files in os.walk(root_dir) if any(file.endswith('.mp3') for file in files)])\n",
    "    with ThreadPoolExecutor() as executor:\n",
    "        for dirpath, dirnames, filenames in os.walk(root_dir):\n",
    "            for fn in filenames:\n",
    "                if fn.endswith('.mp3'):\n",
    "                    full_path = os.path.join(dirpath, fn)\n",
    "                    futures.append(executor.submit(process_file, full_path))\n",
    "                    \n",
    "        for idx, future in enumerate(as_completed(futures)):\n",
    "            if idx%500 == 0:\n",
    "                print(f\"Progress: {idx + 1}/{total_files} files processed\")\n",
    "\n",
    "ParalellConvertImage()"
   ]
  },
  {
   "cell_type": "code",
   "execution_count": null,
   "id": "7a87551e",
   "metadata": {},
   "outputs": [
    {
     "name": "stderr",
     "output_type": "stream",
     "text": [
      "/tmp/ipykernel_14529/1696889538.py:15: UserWarning: PySoundFile failed. Trying audioread instead.\n",
      "  y, sr = librosa.load(pathname, sr=conf.sampling_rate)\n",
      "/home/rasmus/.local/lib/python3.10/site-packages/librosa/core/audio.py:184: FutureWarning: librosa.core.audio.__audioread_load\n",
      "\tDeprecated as of librosa version 0.10.0.\n",
      "\tIt will be removed in librosa version 1.0.\n",
      "  y, sr_native = __audioread_load(path, offset, duration, dtype)\n"
     ]
    },
    {
     "ename": "FileNotFoundError",
     "evalue": "[Errno 2] No such file or directory: '000003_1.mp3'",
     "output_type": "error",
     "traceback": [
      "\u001b[0;31m---------------------------------------------------------------------------\u001b[0m",
      "\u001b[0;31mLibsndfileError\u001b[0m                           Traceback (most recent call last)",
      "File \u001b[0;32m~/.local/lib/python3.10/site-packages/librosa/core/audio.py:176\u001b[0m, in \u001b[0;36mload\u001b[0;34m(path, sr, mono, offset, duration, dtype, res_type)\u001b[0m\n\u001b[1;32m    175\u001b[0m \u001b[38;5;28;01mtry\u001b[39;00m:\n\u001b[0;32m--> 176\u001b[0m     y, sr_native \u001b[38;5;241m=\u001b[39m \u001b[43m__soundfile_load\u001b[49m\u001b[43m(\u001b[49m\u001b[43mpath\u001b[49m\u001b[43m,\u001b[49m\u001b[43m \u001b[49m\u001b[43moffset\u001b[49m\u001b[43m,\u001b[49m\u001b[43m \u001b[49m\u001b[43mduration\u001b[49m\u001b[43m,\u001b[49m\u001b[43m \u001b[49m\u001b[43mdtype\u001b[49m\u001b[43m)\u001b[49m\n\u001b[1;32m    178\u001b[0m \u001b[38;5;28;01mexcept\u001b[39;00m sf\u001b[38;5;241m.\u001b[39mSoundFileRuntimeError \u001b[38;5;28;01mas\u001b[39;00m exc:\n\u001b[1;32m    179\u001b[0m     \u001b[38;5;66;03m# If soundfile failed, try audioread instead\u001b[39;00m\n",
      "File \u001b[0;32m~/.local/lib/python3.10/site-packages/librosa/core/audio.py:209\u001b[0m, in \u001b[0;36m__soundfile_load\u001b[0;34m(path, offset, duration, dtype)\u001b[0m\n\u001b[1;32m    207\u001b[0m \u001b[38;5;28;01melse\u001b[39;00m:\n\u001b[1;32m    208\u001b[0m     \u001b[38;5;66;03m# Otherwise, create the soundfile object\u001b[39;00m\n\u001b[0;32m--> 209\u001b[0m     context \u001b[38;5;241m=\u001b[39m \u001b[43msf\u001b[49m\u001b[38;5;241;43m.\u001b[39;49m\u001b[43mSoundFile\u001b[49m\u001b[43m(\u001b[49m\u001b[43mpath\u001b[49m\u001b[43m)\u001b[49m\n\u001b[1;32m    211\u001b[0m \u001b[38;5;28;01mwith\u001b[39;00m context \u001b[38;5;28;01mas\u001b[39;00m sf_desc:\n",
      "File \u001b[0;32m~/.local/lib/python3.10/site-packages/soundfile.py:690\u001b[0m, in \u001b[0;36mSoundFile.__init__\u001b[0;34m(self, file, mode, samplerate, channels, subtype, endian, format, closefd, compression_level, bitrate_mode)\u001b[0m\n\u001b[1;32m    688\u001b[0m \u001b[38;5;28mself\u001b[39m\u001b[38;5;241m.\u001b[39m_info \u001b[38;5;241m=\u001b[39m _create_info_struct(file, mode, samplerate, channels,\n\u001b[1;32m    689\u001b[0m                                  \u001b[38;5;28mformat\u001b[39m, subtype, endian)\n\u001b[0;32m--> 690\u001b[0m \u001b[38;5;28mself\u001b[39m\u001b[38;5;241m.\u001b[39m_file \u001b[38;5;241m=\u001b[39m \u001b[38;5;28;43mself\u001b[39;49m\u001b[38;5;241;43m.\u001b[39;49m\u001b[43m_open\u001b[49m\u001b[43m(\u001b[49m\u001b[43mfile\u001b[49m\u001b[43m,\u001b[49m\u001b[43m \u001b[49m\u001b[43mmode_int\u001b[49m\u001b[43m,\u001b[49m\u001b[43m \u001b[49m\u001b[43mclosefd\u001b[49m\u001b[43m)\u001b[49m\n\u001b[1;32m    691\u001b[0m \u001b[38;5;28;01mif\u001b[39;00m \u001b[38;5;28mset\u001b[39m(mode)\u001b[38;5;241m.\u001b[39missuperset(\u001b[38;5;124m'\u001b[39m\u001b[38;5;124mr+\u001b[39m\u001b[38;5;124m'\u001b[39m) \u001b[38;5;129;01mand\u001b[39;00m \u001b[38;5;28mself\u001b[39m\u001b[38;5;241m.\u001b[39mseekable():\n\u001b[1;32m    692\u001b[0m     \u001b[38;5;66;03m# Move write position to 0 (like in Python file objects)\u001b[39;00m\n",
      "File \u001b[0;32m~/.local/lib/python3.10/site-packages/soundfile.py:1265\u001b[0m, in \u001b[0;36mSoundFile._open\u001b[0;34m(self, file, mode_int, closefd)\u001b[0m\n\u001b[1;32m   1264\u001b[0m     err \u001b[38;5;241m=\u001b[39m _snd\u001b[38;5;241m.\u001b[39msf_error(file_ptr)\n\u001b[0;32m-> 1265\u001b[0m     \u001b[38;5;28;01mraise\u001b[39;00m LibsndfileError(err, prefix\u001b[38;5;241m=\u001b[39m\u001b[38;5;124m\"\u001b[39m\u001b[38;5;124mError opening \u001b[39m\u001b[38;5;132;01m{0!r}\u001b[39;00m\u001b[38;5;124m: \u001b[39m\u001b[38;5;124m\"\u001b[39m\u001b[38;5;241m.\u001b[39mformat(\u001b[38;5;28mself\u001b[39m\u001b[38;5;241m.\u001b[39mname))\n\u001b[1;32m   1266\u001b[0m \u001b[38;5;28;01mif\u001b[39;00m mode_int \u001b[38;5;241m==\u001b[39m _snd\u001b[38;5;241m.\u001b[39mSFM_WRITE:\n\u001b[1;32m   1267\u001b[0m     \u001b[38;5;66;03m# Due to a bug in libsndfile version <= 1.0.25, frames != 0\u001b[39;00m\n\u001b[1;32m   1268\u001b[0m     \u001b[38;5;66;03m# when opening a named pipe in SFM_WRITE mode.\u001b[39;00m\n\u001b[1;32m   1269\u001b[0m     \u001b[38;5;66;03m# See http://github.com/erikd/libsndfile/issues/77.\u001b[39;00m\n",
      "\u001b[0;31mLibsndfileError\u001b[0m: Error opening '000003_1.mp3': System error.",
      "\nDuring handling of the above exception, another exception occurred:\n",
      "\u001b[0;31mFileNotFoundError\u001b[0m                         Traceback (most recent call last)",
      "Cell \u001b[0;32mIn[4], line 1\u001b[0m\n\u001b[0;32m----> 1\u001b[0m \u001b[43msave_image_from_sound\u001b[49m\u001b[43m(\u001b[49m\u001b[38;5;124;43m\"\u001b[39;49m\u001b[38;5;124;43m000003_1.mp3\u001b[39;49m\u001b[38;5;124;43m\"\u001b[39;49m\u001b[43m)\u001b[49m\n",
      "Cell \u001b[0;32mIn[2], line 99\u001b[0m, in \u001b[0;36msave_image_from_sound\u001b[0;34m(img_path)\u001b[0m\n\u001b[1;32m     97\u001b[0m \u001b[38;5;28;01mdef\u001b[39;00m\u001b[38;5;250m \u001b[39m\u001b[38;5;21msave_image_from_sound\u001b[39m(img_path):\n\u001b[1;32m     98\u001b[0m     filename \u001b[38;5;241m=\u001b[39m rename_file(img_path)\n\u001b[0;32m---> 99\u001b[0m     x \u001b[38;5;241m=\u001b[39m \u001b[43mread_as_melspectrogram\u001b[49m\u001b[43m(\u001b[49m\u001b[43mconf\u001b[49m\u001b[43m,\u001b[49m\u001b[43m \u001b[49m\u001b[43mimg_path\u001b[49m\u001b[43m,\u001b[49m\u001b[43m \u001b[49m\u001b[43mtrim_long_data\u001b[49m\u001b[38;5;241;43m=\u001b[39;49m\u001b[38;5;28;43;01mFalse\u001b[39;49;00m\u001b[43m,\u001b[49m\u001b[43m \u001b[49m\u001b[43mdebug_display\u001b[49m\u001b[38;5;241;43m=\u001b[39;49m\u001b[38;5;28;43;01mTrue\u001b[39;49;00m\u001b[43m)\u001b[49m\n\u001b[1;32m    100\u001b[0m     \u001b[38;5;66;03m#x_color = mono_to_color(x)\u001b[39;00m\n\u001b[1;32m    101\u001b[0m     x_min, x_max \u001b[38;5;241m=\u001b[39m x\u001b[38;5;241m.\u001b[39mmin(), x\u001b[38;5;241m.\u001b[39mmax()\n",
      "Cell \u001b[0;32mIn[2], line 46\u001b[0m, in \u001b[0;36mread_as_melspectrogram\u001b[0;34m(conf, pathname, trim_long_data, debug_display)\u001b[0m\n\u001b[1;32m     45\u001b[0m \u001b[38;5;28;01mdef\u001b[39;00m\u001b[38;5;250m \u001b[39m\u001b[38;5;21mread_as_melspectrogram\u001b[39m(conf, pathname, trim_long_data, debug_display\u001b[38;5;241m=\u001b[39m\u001b[38;5;28;01mFalse\u001b[39;00m):\n\u001b[0;32m---> 46\u001b[0m     x \u001b[38;5;241m=\u001b[39m \u001b[43mread_audio\u001b[49m\u001b[43m(\u001b[49m\u001b[43mconf\u001b[49m\u001b[43m,\u001b[49m\u001b[43m \u001b[49m\u001b[43mpathname\u001b[49m\u001b[43m,\u001b[49m\u001b[43m \u001b[49m\u001b[43mtrim_long_data\u001b[49m\u001b[43m)\u001b[49m\n\u001b[1;32m     47\u001b[0m     mels \u001b[38;5;241m=\u001b[39m audio_to_melspectrogram(conf, x)\n\u001b[1;32m     48\u001b[0m     \u001b[38;5;28;01mreturn\u001b[39;00m mels\n",
      "Cell \u001b[0;32mIn[2], line 15\u001b[0m, in \u001b[0;36mread_audio\u001b[0;34m(conf, pathname, trim_long_data)\u001b[0m\n\u001b[1;32m     14\u001b[0m \u001b[38;5;28;01mdef\u001b[39;00m\u001b[38;5;250m \u001b[39m\u001b[38;5;21mread_audio\u001b[39m(conf, pathname, trim_long_data):\n\u001b[0;32m---> 15\u001b[0m     y, sr \u001b[38;5;241m=\u001b[39m \u001b[43mlibrosa\u001b[49m\u001b[38;5;241;43m.\u001b[39;49m\u001b[43mload\u001b[49m\u001b[43m(\u001b[49m\u001b[43mpathname\u001b[49m\u001b[43m,\u001b[49m\u001b[43m \u001b[49m\u001b[43msr\u001b[49m\u001b[38;5;241;43m=\u001b[39;49m\u001b[43mconf\u001b[49m\u001b[38;5;241;43m.\u001b[39;49m\u001b[43msampling_rate\u001b[49m\u001b[43m)\u001b[49m\n\u001b[1;32m     16\u001b[0m     \u001b[38;5;66;03m# trim silence\u001b[39;00m\n\u001b[1;32m     17\u001b[0m     \u001b[38;5;28;01mif\u001b[39;00m \u001b[38;5;241m0\u001b[39m \u001b[38;5;241m<\u001b[39m \u001b[38;5;28mlen\u001b[39m(y): \u001b[38;5;66;03m# workaround: 0 length causes error\u001b[39;00m\n",
      "File \u001b[0;32m~/.local/lib/python3.10/site-packages/librosa/core/audio.py:184\u001b[0m, in \u001b[0;36mload\u001b[0;34m(path, sr, mono, offset, duration, dtype, res_type)\u001b[0m\n\u001b[1;32m    180\u001b[0m \u001b[38;5;28;01mif\u001b[39;00m \u001b[38;5;28misinstance\u001b[39m(path, (\u001b[38;5;28mstr\u001b[39m, pathlib\u001b[38;5;241m.\u001b[39mPurePath)):\n\u001b[1;32m    181\u001b[0m     warnings\u001b[38;5;241m.\u001b[39mwarn(\n\u001b[1;32m    182\u001b[0m         \u001b[38;5;124m\"\u001b[39m\u001b[38;5;124mPySoundFile failed. Trying audioread instead.\u001b[39m\u001b[38;5;124m\"\u001b[39m, stacklevel\u001b[38;5;241m=\u001b[39m\u001b[38;5;241m2\u001b[39m\n\u001b[1;32m    183\u001b[0m     )\n\u001b[0;32m--> 184\u001b[0m     y, sr_native \u001b[38;5;241m=\u001b[39m \u001b[43m__audioread_load\u001b[49m\u001b[43m(\u001b[49m\u001b[43mpath\u001b[49m\u001b[43m,\u001b[49m\u001b[43m \u001b[49m\u001b[43moffset\u001b[49m\u001b[43m,\u001b[49m\u001b[43m \u001b[49m\u001b[43mduration\u001b[49m\u001b[43m,\u001b[49m\u001b[43m \u001b[49m\u001b[43mdtype\u001b[49m\u001b[43m)\u001b[49m\n\u001b[1;32m    185\u001b[0m \u001b[38;5;28;01melse\u001b[39;00m:\n\u001b[1;32m    186\u001b[0m     \u001b[38;5;28;01mraise\u001b[39;00m exc\n",
      "File \u001b[0;32m~/.local/lib/python3.10/site-packages/decorator.py:235\u001b[0m, in \u001b[0;36mdecorate.<locals>.fun\u001b[0;34m(*args, **kw)\u001b[0m\n\u001b[1;32m    233\u001b[0m \u001b[38;5;28;01mif\u001b[39;00m \u001b[38;5;129;01mnot\u001b[39;00m kwsyntax:\n\u001b[1;32m    234\u001b[0m     args, kw \u001b[38;5;241m=\u001b[39m fix(args, kw, sig)\n\u001b[0;32m--> 235\u001b[0m \u001b[38;5;28;01mreturn\u001b[39;00m \u001b[43mcaller\u001b[49m\u001b[43m(\u001b[49m\u001b[43mfunc\u001b[49m\u001b[43m,\u001b[49m\u001b[43m \u001b[49m\u001b[38;5;241;43m*\u001b[39;49m\u001b[43m(\u001b[49m\u001b[43mextras\u001b[49m\u001b[43m \u001b[49m\u001b[38;5;241;43m+\u001b[39;49m\u001b[43m \u001b[49m\u001b[43margs\u001b[49m\u001b[43m)\u001b[49m\u001b[43m,\u001b[49m\u001b[43m \u001b[49m\u001b[38;5;241;43m*\u001b[39;49m\u001b[38;5;241;43m*\u001b[39;49m\u001b[43mkw\u001b[49m\u001b[43m)\u001b[49m\n",
      "File \u001b[0;32m~/.local/lib/python3.10/site-packages/librosa/util/decorators.py:63\u001b[0m, in \u001b[0;36mdeprecated.<locals>.__wrapper\u001b[0;34m(func, *args, **kwargs)\u001b[0m\n\u001b[1;32m     54\u001b[0m \u001b[38;5;250m\u001b[39m\u001b[38;5;124;03m\"\"\"Warn the user, and then proceed.\"\"\"\u001b[39;00m\n\u001b[1;32m     55\u001b[0m warnings\u001b[38;5;241m.\u001b[39mwarn(\n\u001b[1;32m     56\u001b[0m     \u001b[38;5;124m\"\u001b[39m\u001b[38;5;132;01m{:s}\u001b[39;00m\u001b[38;5;124m.\u001b[39m\u001b[38;5;132;01m{:s}\u001b[39;00m\u001b[38;5;130;01m\\n\u001b[39;00m\u001b[38;5;130;01m\\t\u001b[39;00m\u001b[38;5;124mDeprecated as of librosa version \u001b[39m\u001b[38;5;132;01m{:s}\u001b[39;00m\u001b[38;5;124m.\u001b[39m\u001b[38;5;124m\"\u001b[39m\n\u001b[1;32m     57\u001b[0m     \u001b[38;5;124m\"\u001b[39m\u001b[38;5;130;01m\\n\u001b[39;00m\u001b[38;5;130;01m\\t\u001b[39;00m\u001b[38;5;124mIt will be removed in librosa version \u001b[39m\u001b[38;5;132;01m{:s}\u001b[39;00m\u001b[38;5;124m.\u001b[39m\u001b[38;5;124m\"\u001b[39m\u001b[38;5;241m.\u001b[39mformat(\n\u001b[0;32m   (...)\u001b[0m\n\u001b[1;32m     61\u001b[0m     stacklevel\u001b[38;5;241m=\u001b[39m\u001b[38;5;241m3\u001b[39m,  \u001b[38;5;66;03m# Would be 2, but the decorator adds a level\u001b[39;00m\n\u001b[1;32m     62\u001b[0m )\n\u001b[0;32m---> 63\u001b[0m \u001b[38;5;28;01mreturn\u001b[39;00m \u001b[43mfunc\u001b[49m\u001b[43m(\u001b[49m\u001b[38;5;241;43m*\u001b[39;49m\u001b[43margs\u001b[49m\u001b[43m,\u001b[49m\u001b[43m \u001b[49m\u001b[38;5;241;43m*\u001b[39;49m\u001b[38;5;241;43m*\u001b[39;49m\u001b[43mkwargs\u001b[49m\u001b[43m)\u001b[49m\n",
      "File \u001b[0;32m~/.local/lib/python3.10/site-packages/librosa/core/audio.py:240\u001b[0m, in \u001b[0;36m__audioread_load\u001b[0;34m(path, offset, duration, dtype)\u001b[0m\n\u001b[1;32m    237\u001b[0m     reader \u001b[38;5;241m=\u001b[39m path\n\u001b[1;32m    238\u001b[0m \u001b[38;5;28;01melse\u001b[39;00m:\n\u001b[1;32m    239\u001b[0m     \u001b[38;5;66;03m# If the input was not an audioread object, try to open it\u001b[39;00m\n\u001b[0;32m--> 240\u001b[0m     reader \u001b[38;5;241m=\u001b[39m \u001b[43maudioread\u001b[49m\u001b[38;5;241;43m.\u001b[39;49m\u001b[43maudio_open\u001b[49m\u001b[43m(\u001b[49m\u001b[43mpath\u001b[49m\u001b[43m)\u001b[49m\n\u001b[1;32m    242\u001b[0m \u001b[38;5;28;01mwith\u001b[39;00m reader \u001b[38;5;28;01mas\u001b[39;00m input_file:\n\u001b[1;32m    243\u001b[0m     sr_native \u001b[38;5;241m=\u001b[39m input_file\u001b[38;5;241m.\u001b[39msamplerate\n",
      "File \u001b[0;32m~/.local/lib/python3.10/site-packages/audioread/__init__.py:127\u001b[0m, in \u001b[0;36maudio_open\u001b[0;34m(path, backends)\u001b[0m\n\u001b[1;32m    125\u001b[0m \u001b[38;5;28;01mfor\u001b[39;00m BackendClass \u001b[38;5;129;01min\u001b[39;00m backends:\n\u001b[1;32m    126\u001b[0m     \u001b[38;5;28;01mtry\u001b[39;00m:\n\u001b[0;32m--> 127\u001b[0m         \u001b[38;5;28;01mreturn\u001b[39;00m \u001b[43mBackendClass\u001b[49m\u001b[43m(\u001b[49m\u001b[43mpath\u001b[49m\u001b[43m)\u001b[49m\n\u001b[1;32m    128\u001b[0m     \u001b[38;5;28;01mexcept\u001b[39;00m DecodeError:\n\u001b[1;32m    129\u001b[0m         \u001b[38;5;28;01mpass\u001b[39;00m\n",
      "File \u001b[0;32m~/.local/lib/python3.10/site-packages/audioread/rawread.py:59\u001b[0m, in \u001b[0;36mRawAudioFile.__init__\u001b[0;34m(self, filename)\u001b[0m\n\u001b[1;32m     58\u001b[0m \u001b[38;5;28;01mdef\u001b[39;00m\u001b[38;5;250m \u001b[39m\u001b[38;5;21m__init__\u001b[39m(\u001b[38;5;28mself\u001b[39m, filename):\n\u001b[0;32m---> 59\u001b[0m     \u001b[38;5;28mself\u001b[39m\u001b[38;5;241m.\u001b[39m_fh \u001b[38;5;241m=\u001b[39m \u001b[38;5;28;43mopen\u001b[39;49m\u001b[43m(\u001b[49m\u001b[43mfilename\u001b[49m\u001b[43m,\u001b[49m\u001b[43m \u001b[49m\u001b[38;5;124;43m'\u001b[39;49m\u001b[38;5;124;43mrb\u001b[39;49m\u001b[38;5;124;43m'\u001b[39;49m\u001b[43m)\u001b[49m\n\u001b[1;32m     61\u001b[0m     \u001b[38;5;28;01mtry\u001b[39;00m:\n\u001b[1;32m     62\u001b[0m         \u001b[38;5;28mself\u001b[39m\u001b[38;5;241m.\u001b[39m_file \u001b[38;5;241m=\u001b[39m aifc\u001b[38;5;241m.\u001b[39mopen(\u001b[38;5;28mself\u001b[39m\u001b[38;5;241m.\u001b[39m_fh)\n",
      "\u001b[0;31mFileNotFoundError\u001b[0m: [Errno 2] No such file or directory: '000003_1.mp3'"
     ]
    }
   ],
   "source": [
    "#save_image_from_sound(\"000003_1.mp3\")"
   ]
  }
 ],
 "metadata": {
  "kernelspec": {
   "display_name": "Python 3",
   "language": "python",
   "name": "python3"
  },
  "language_info": {
   "codemirror_mode": {
    "name": "ipython",
    "version": 3
   },
   "file_extension": ".py",
   "mimetype": "text/x-python",
   "name": "python",
   "nbconvert_exporter": "python",
   "pygments_lexer": "ipython3",
   "version": "3.10.12"
  }
 },
 "nbformat": 4,
 "nbformat_minor": 5
}
