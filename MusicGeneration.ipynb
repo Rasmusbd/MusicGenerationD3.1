{
 "cells": [
  {
   "cell_type": "markdown",
   "id": "0d3b23c5",
   "metadata": {},
   "source": [
    "# Using the trained model to generate music"
   ]
  },
  {
   "cell_type": "code",
   "execution_count": null,
   "id": "e2da8b43",
   "metadata": {},
   "outputs": [],
   "source": [
    "#TODO: Use saved weights (models) to generate music"
   ]
  },
  {
   "cell_type": "code",
   "execution_count": 2,
   "id": "5186bf6d",
   "metadata": {},
   "outputs": [],
   "source": [
    "import numpy as np\n",
    "import pandas as pd\n",
    "import scipy\n",
    "import matplotlib.pyplot as plt, seaborn as sns\n",
    "\n",
    "import IPython.display as ipd\n",
    "\n",
    "plt.rcParams['figure.figsize'] = (10, 3)"
   ]
  }
 ],
 "metadata": {
  "kernelspec": {
   "display_name": "Python 3",
   "language": "python",
   "name": "python3"
  },
  "language_info": {
   "codemirror_mode": {
    "name": "ipython",
    "version": 3
   },
   "file_extension": ".py",
   "mimetype": "text/x-python",
   "name": "python",
   "nbconvert_exporter": "python",
   "pygments_lexer": "ipython3",
   "version": "3.12.8"
  }
 },
 "nbformat": 4,
 "nbformat_minor": 5
}
