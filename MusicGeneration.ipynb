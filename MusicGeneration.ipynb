{
 "cells": [
  {
   "cell_type": "markdown",
   "id": "0d3b23c5",
   "metadata": {},
   "source": [
    "# Using the trained model to generate music"
   ]
  },
  {
   "cell_type": "code",
   "execution_count": null,
   "id": "e2da8b43",
   "metadata": {
    "vscode": {
     "languageId": "plaintext"
    }
   },
   "outputs": [],
   "source": [
    "#TODO: Use saved weights (models) to generate music"
   ]
  }
 ],
 "metadata": {
  "language_info": {
   "name": "python"
  }
 },
 "nbformat": 4,
 "nbformat_minor": 5
}
